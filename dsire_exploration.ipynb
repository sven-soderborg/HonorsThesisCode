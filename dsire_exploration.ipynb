{
 "cells": [
  {
   "cell_type": "markdown",
   "metadata": {},
   "source": [
    "# Exploring DSIRE Database of State Incentives for Renewables & Efficiency\n",
    "***"
   ]
  },
  {
   "cell_type": "code",
   "execution_count": 2,
   "metadata": {},
   "outputs": [
    {
     "data": {
      "text/html": [
       "\n",
       "<style>\n",
       "    table.dataframe th, table.dataframe td {\n",
       "        text-align: right !important;\n",
       "    }\n",
       "</style>\n"
      ],
      "text/plain": [
       "<IPython.core.display.HTML object>"
      ]
     },
     "metadata": {},
     "output_type": "display_data"
    }
   ],
   "source": [
    "import pandas as pd\n",
    "pd.options.display.float_format = '{:,.2f}'.format # display numbers as with thousands separator\n",
    "pd.set_option('display.max_colwidth', None) # display full text in columns\n",
    "\n",
    "from IPython.display import display, HTML\n",
    "# Custom CSS to align DataFrame values to the right\n",
    "css_rules = \"\"\"\n",
    "<style>\n",
    "    table.dataframe th, table.dataframe td {\n",
    "        text-align: right !important;\n",
    "    }\n",
    "</style>\n",
    "\"\"\"\n",
    "# Apply the custom CSS\n",
    "display(HTML(css_rules))"
   ]
  },
  {
   "cell_type": "code",
   "execution_count": 3,
   "metadata": {},
   "outputs": [],
   "source": [
    "dsire = pd.read_csv('Data/DSIRE/clean_dsire_data_off.csv')\n",
    "\n",
    "# These will help to show display useful information since our main dataset uses id's instead of names\n",
    "tech_dict = pd.read_csv('Data/DSIRE/technology_category.csv', usecols=['id', 'name'], index_col='id', dtype={\"id\" : str})['name'].to_dict()\n",
    "sect_dict = pd.read_csv('Data/DSIRE/sector.csv', usecols=['id', 'name'], index_col='id', dtype={\"id\" : str})['name'].to_dict()\n"
   ]
  },
  {
   "cell_type": "markdown",
   "metadata": {},
   "source": [
    "## Counts of programs by various attributes\n",
    "<a class=\"anchor\" id=\"counts-of-programs-by-various-attributes\"></a>\n",
    "***\n",
    "Attributes of interest:\n",
    "1. Policy/Incentive Category\n",
    "2. Policy/Incentive Type \n",
    "3. Implementing Sector (What type of entity enacted the program?)\n",
    "4. Eligible Technologies (Which technologies does this program support?)\n",
    "5. Eligible Sectors (Which sectors does this program support?)"
   ]
  },
  {
   "cell_type": "code",
   "execution_count": 10,
   "metadata": {},
   "outputs": [
    {
     "data": {
      "text/plain": [
       "count       6.00\n",
       "mean      410.00\n",
       "std       537.96\n",
       "min         1.00\n",
       "25%        14.25\n",
       "50%       130.50\n",
       "75%       843.00\n",
       "max     1,142.00\n",
       "Name: count, dtype: float64"
      ]
     },
     "execution_count": 10,
     "metadata": {},
     "output_type": "execute_result"
    }
   ],
   "source": [
    "cols_interest = ['CategoryName', 'TypeName', 'ImplementingSectorName']\n",
    "\n",
    "attr_counts = {}\n",
    "\n",
    "# Sectors and technologies are stored as binary categorical vars (0/1)\n",
    "sect_counts = {}\n",
    "for col in dsire.columns:\n",
    "    if 'Sector_' in col:\n",
    "        sec_name = sect_dict[col.split('_')[1]] # format is `Sector_id`\n",
    "        sect_counts[sec_name] = dsire[col].sum() # binary categorical var so sum is the count\n",
    "\n",
    "# Add sector counts to the collection of attribute counts\n",
    "sect_series = pd.Series(sect_counts)\n",
    "attr_counts['Sector'] = sect_series\n",
    "\n",
    "# See notes about sectors starting line 5\n",
    "tech_counts = {}\n",
    "for col in dsire.columns:\n",
    "    if 'Tech_' in col:\n",
    "        tech_name = tech_dict[col.split('_')[1]]\n",
    "        tech_counts[tech_name] = dsire[col].sum()\n",
    "tech_series = pd.Series(tech_counts)\n",
    "attr_counts['Tech'] = tech_series\n",
    "\n",
    "# Find the value counts for the columns of interest\n",
    "for col in cols_interest:\n",
    "    attr_counts[col] = dsire[col].value_counts()\n",
    "\n",
    "attr_counts['ImplementingSectorName'].describe()"
   ]
  },
  {
   "cell_type": "markdown",
   "metadata": {},
   "source": [
    "## Counts of programs by state and attributes\n",
    "<a class=\"anchor\" id=\"counts-of-programs-by-state-and-attributes\"></a>\n",
    "***\n",
    "Attributes of interest are the same as in [Counts of programs by various attributes](#counts-of-programs-by-various-attributes)"
   ]
  },
  {
   "cell_type": "code",
   "execution_count": null,
   "metadata": {},
   "outputs": [],
   "source": []
  }
 ],
 "metadata": {
  "kernelspec": {
   "display_name": "Python 3",
   "language": "python",
   "name": "python3"
  },
  "language_info": {
   "codemirror_mode": {
    "name": "ipython",
    "version": 3
   },
   "file_extension": ".py",
   "mimetype": "text/x-python",
   "name": "python",
   "nbconvert_exporter": "python",
   "pygments_lexer": "ipython3",
   "version": "3.11.5"
  }
 },
 "nbformat": 4,
 "nbformat_minor": 2
}
