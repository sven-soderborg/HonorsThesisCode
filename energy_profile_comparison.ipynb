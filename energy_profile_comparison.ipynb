{
 "cells": [
  {
   "cell_type": "code",
   "execution_count": 1,
   "metadata": {},
   "outputs": [],
   "source": [
    "import pandas as pd\n",
    "from scipy.spatial import distance\n",
    "from sklearn.manifold import TSNE\n",
    "import plotly.express as px\n",
    "from itables import show\n",
    "\n",
    "pd.set_option(\"display.float_format\", lambda x: \"%.10f\" % x)"
   ]
  },
  {
   "cell_type": "markdown",
   "metadata": {},
   "source": [
    "## Clean data for energy profile comparison"
   ]
  },
  {
   "cell_type": "code",
   "execution_count": 2,
   "metadata": {},
   "outputs": [
    {
     "data": {
      "text/html": [
       "<style>.itables table td {\n",
       "    text-overflow: ellipsis;\n",
       "    overflow: hidden;\n",
       "}\n",
       "\n",
       ".itables table th {\n",
       "    text-overflow: ellipsis;\n",
       "    overflow: hidden;\n",
       "}\n",
       "\n",
       ".itables thead input {\n",
       "    width: 100%;\n",
       "    padding: 3px;\n",
       "    box-sizing: border-box;\n",
       "}\n",
       "\n",
       ".itables tfoot input {\n",
       "    width: 100%;\n",
       "    padding: 3px;\n",
       "    box-sizing: border-box;\n",
       "}\n",
       "</style>\n",
       "<div class=\"itables\">\n",
       "<table id=\"4c7fdaef-efbc-4890-9215-b74f8122a846\" class=\"display nowrap\"style=\"table-layout:auto;width:auto;margin:auto;caption-side:bottom\"><thead>\n",
       "    <tr style=\"text-align: right;\">\n",
       "      <th>SOURCE</th>\n",
       "      <th>COAL</th>\n",
       "      <th>GEOTHERMAL</th>\n",
       "      <th>HYDROELECTRIC CONVENTIONAL</th>\n",
       "      <th>NATURAL GAS</th>\n",
       "      <th>NUCLEAR</th>\n",
       "      <th>OTHER</th>\n",
       "      <th>OTHER BIOMASS</th>\n",
       "      <th>OTHER GASES</th>\n",
       "      <th>PETROLEUM</th>\n",
       "      <th>PUMPED STORAGE</th>\n",
       "      <th>SOLAR THERMAL AND PHOTOVOLTAIC</th>\n",
       "      <th>WIND</th>\n",
       "      <th>WOOD AND WOOD DERIVED FUELS</th>\n",
       "    </tr>\n",
       "    <tr>\n",
       "      <th>STATE</th>\n",
       "      <th></th>\n",
       "      <th></th>\n",
       "      <th></th>\n",
       "      <th></th>\n",
       "      <th></th>\n",
       "      <th></th>\n",
       "      <th></th>\n",
       "      <th></th>\n",
       "      <th></th>\n",
       "      <th></th>\n",
       "      <th></th>\n",
       "      <th></th>\n",
       "      <th></th>\n",
       "    </tr>\n",
       "  </thead><tbody><tr><td>Loading... (need <a href=https://mwouts.github.io/itables/troubleshooting.html>help</a>?)</td></tr></tbody></table>\n",
       "<link rel=\"stylesheet\" type=\"text/css\" href=\"https://cdn.datatables.net/1.13.1/css/jquery.dataTables.min.css\">\n",
       "<script type=\"module\">\n",
       "    // Import jquery and DataTable\n",
       "    import 'https://code.jquery.com/jquery-3.6.0.min.js';\n",
       "    import dt from 'https://cdn.datatables.net/1.12.1/js/jquery.dataTables.mjs';\n",
       "    dt($);\n",
       "\n",
       "    // Define the table data\n",
       "    const data = [[\"AK\", 594139, 0, 1659152, 3040487, 0, -2392, 43017, 0, 831330, 0, 0, 169301, 0], [\"AL\", 34258406, 0, 6984803, 57803618, 39901879, 0, 38110, 24053, 45832, 0, 31261, 0, 3297136], [\"AR\", 23800070, 0, 3569986, 18171187, 13421022, 5637, 112707, 0, 42363, 38824, 26142, 0, 1257121], [\"AZ\", 30403392, 0, 7167763, 34182808, 32377477, 0, 38242, 0, 51595, 58630, 3765825, 541582, 176136], [\"CA\", 318876, 11457299, 28942121, 97073664, 18907578, 665664, 2909930, 1426816, 175581, -259349, 18806711, 13509039, 3029285], [\"CO\", 29948675, 0, 1902571, 12679439, 0, 53388, 76483, 0, 6975, -294186, 538109, 9421204, 85822], [\"CT\", 177370, 0, 224145, 17951503, 16575492, 577398, 618838, 0, 91735, 5587, 24518, 12742, 237232], [\"DC\", 0, 0, 0, 22702, 0, 0, 52771, 0, 1001, 0, 0, 0, 0], [\"DE\", 479350, 0, 0, 7787469, 0, 0, 67987, 277477, 62571, 0, 51086, 5321, 0], [\"FL\", 39429468, 0, 174551, 158495445, 29320022, 3150525, 2671282, 4716, 2820303, 0, 223983, 0, 1971856], [\"GA\", 37890474, 0, 3372677, 52862464, 34480662, 100978, 270887, 0, 211845, -993024, 880923, 0, 4302529], [\"HI\", 1497380, 260102, 90849, 0, 0, 322089, 359466, 51006, 6640316, 0, 88511, 639127, 0], [\"IA\", 25198347, 0, 916789, 2960947, 4702665, 12121, 250670, 0, 277773, 0, 151, 20071999, 1045], [\"ID\", 29188, 71995, 9033272, 3321462, 0, 65048, 118428, 0, 183, 0, 29801, 2578415, 413145], [\"IL\", 59337802, 0, 132834, 17484691, 98607038, 273854, 467012, 204153, 69503, 0, 48810, 10663434, 0], [\"IN\", 72533080, 0, 426265, 19995659, 0, 363050, 432790, 2272492, 610407, 0, 225841, 4899474, 0], [\"KS\", 23096064, 0, 30538, 2027207, 8246042, 1, 58832, 0, 28324, 0, 2102, 14110881, 0], [\"KY\", 66822058, 0, 3477930, 8228334, 0, 49951, 104776, 0, 1218601, 0, 11732, 0, 360119], [\"LA\", 12013649, 0, 1103023, 66479142, 17151826, 726596, 87334, 2099070, 4819225, 0, 0, 0, 2788939], [\"MA\", 1874932, 0, 712516, 21143936, 5414318, 857932, 1075330, 0, 422281, -500450, 609281, 216123, 128822], [\"MD\", 13826213, 0, 1392187, 5423046, 14760177, 323060, 422029, 0, 160550, 0, 208657, 527114, 123653], [\"ME\", 69823, 0, 2999688, 3498340, 0, 381378, 184926, 0, 109924, 0, 0, 1667103, 2603245], [\"MI\", 40526872, 0, 1564355, 29295154, 31551710, 301645, 972596, 1614622, 818979, -751650, 9235, 4695783, 1522489], [\"MN\", 23206289, 0, 1208502, 8928076, 13860816, 407430, 674321, 0, 32027, 0, 10107, 9933487, 1217697], [\"MO\", 60321890, 0, 1268473, 6031568, 9430179, 8979, 91476, 0, 78016, 179201, 32684, 1121883, 47163], [\"MS\", 5342026, 0, 0, 50094739, 5897272, 5272, 11419, 0, 17785, 0, 0, 0, 1512781], [\"MT\", 14269222, 0, 10082529, 476061, 0, 326868, 0, 8586, 459923, 0, 0, 2140191, 20150], [\"NC\", 37435780, 0, 4417186, 39251102, 42786087, 654538, 595865, 0, 251193, 0, 3421128, 6233, 1960045], [\"ND\", 26580350, 0, 1912005, 1071107, 0, 45107, 5606, 40246, 30109, 0, 0, 8171922, 0], [\"NE\", 21897715, 0, 856408, 537910, 9350591, 0, 97817, 0, -17940, 0, 3981, 3798387, 0], [\"NH\", 422017, 0, 1145386, 4744436, 10761163, 49001, 124940, 0, 38798, 0, 0, 432324, 1564428], [\"NJ\", 1314541, 0, 9478, 43807453, 29885187, 606966, 982778, 207168, 146126, -204013, 834879, 20841, 0], [\"NM\", 18365270, 14218, 147972, 9957553, 0, 279, 17813, 0, 51683, 0, 751836, 3605421, 0], [\"NV\", 2166831, 3353399, 1789219, 28921612, 0, 21028, 55264, 742, 10985, 0, 3124060, 343865, 0], [\"NY\", 1770238, 0, 26888234, 56793336, 41570990, 858597, 1604650, 0, 642952, -470932, 139611, 3940180, 638859], [\"OH\", 68775164, 0, 500320, 29906385, 16817386, -48433, 450016, 720996, 1181253, 0, 65558, 1245337, 272084], [\"OK\", 19158044, 0, 2573424, 36529086, 0, 27690, 119090, 0, 17261, -87429, 5436, 20069089, 243316], [\"OR\", 1898202, 183700, 34549366, 15306661, 0, 40617, 359105, 0, 4850, 0, 40936, 7157128, 641447], [\"PA\", 54672030, 0, 2374519, 68048646, 82924011, 791028, 1883317, 487625, 363224, -561836, 74805, 3476246, 508115], [\"RI\", 0, 0, 2128, 6290503, 0, 0, 204776, 0, 26283, 0, 14663, 26532, 0], [\"SC\", 21002914, 0, 2226074, 16366854, 55825916, 45420, 179761, 0, 113862, -976600, 4971, 0, 2196593], [\"SD\", 2082680, 0, 4805526, 918561, 0, 0, 0, 0, 2793, 0, 364, 3714259, 0], [\"TN\", 31167634, 0, 6774061, 11318515, 29578086, 19583, 90737, 15388, 121581, -703946, 78617, 37747, 842630], [\"TX\", 121230932, 0, 1342005, 225976260, 42079445, 764493, 735042, 2513744, 196422, 0, 730810, 57530784, 947653], [\"UT\", 25939443, 485094, 759542, 8691320, 0, 212851, 84084, 54099, 31552, 0, 1053661, 822282, 0], [\"VA\", 16499412, 0, 1471462, 40904843, 29731895, 461826, 1105805, 0, 535420, -1162636, 20908, 0, 2985941], [\"VT\", 0, 0, 1077517, 1965, 0, 0, 15631, 0, 4017, 0, 59031, 291182, 461864], [\"WA\", 4601726, 0, 78345809, 10982195, 9625622, 59751, 299322, 401642, 22018, -2318, 727, 8041847, 1708240], [\"WI\", 33362841, 0, 2795258, 15472759, 10151394, 49516, 590152, 0, 147111, 0, 2671, 1515261, 879648], [\"WV\", 71512961, 0, 1638247, 1224567, 0, -12281, 0, 24651, 122669, 0, 0, 1432154, 0], [\"WY\", 40026874, 0, 973488, 788143, 0, 65014, 0, 358138, 55636, 0, 0, 4389338, 0]];\n",
       "\n",
       "    // Define the dt_args\n",
       "    let dt_args = {\"order\": []};\n",
       "    dt_args[\"data\"] = data;\n",
       "\n",
       "    $(document).ready(function () {\n",
       "        \n",
       "        $('#4c7fdaef-efbc-4890-9215-b74f8122a846').DataTable(dt_args);\n",
       "    });\n",
       "</script>\n",
       "</div>\n"
      ],
      "text/plain": [
       "<IPython.core.display.HTML object>"
      ]
     },
     "metadata": {},
     "output_type": "display_data"
    }
   ],
   "source": [
    "# Import data and rename columns for better readability\n",
    "data = pd.read_csv(\"Data/annual_generation_state.csv\", thousands=\",\")\n",
    "data.rename(\n",
    "    columns={\n",
    "        \"TYPE OF PRODUCER\": \"PRODUCER\",\n",
    "        \"ENERGY SOURCE\": \"SOURCE\",\n",
    "        \"GENERATION (Megawatthours)\": \"MWH\",\n",
    "    },\n",
    "    inplace=True,\n",
    ")\n",
    "\n",
    "# Change all strings to upper for consistency (state column has 'US-Total' and 'US-TOTAL')\n",
    "data[\"STATE\"] = data[\"STATE\"].str.upper()\n",
    "data[\"PRODUCER\"] = data[\"PRODUCER\"].str.upper()\n",
    "data[\"SOURCE\"] = data[\"SOURCE\"].str.upper()\n",
    "\n",
    "# Filter data to not include 'US-TOTAL' \n",
    "data =  data[data['STATE'] != 'US-TOTAL']\n",
    "\n",
    "# Remove the blank state rows (3 rows for 2003 with 0 generation in coal, natural gas, and petroleum)\n",
    "data = data[data['STATE'] != '  ']\n",
    "\n",
    "\n",
    "# Filter data for 2016 and only include 'Total Electric Power Industry'\n",
    "data_2016 = data[\n",
    "    (data[\"YEAR\"] == 2016) & (data[\"PRODUCER\"] == \"TOTAL ELECTRIC POWER INDUSTRY\") & (data[\"SOURCE\"] != \"TOTAL\")\n",
    "]\n",
    "\n",
    "# Group and pivot the data to have energy sources as columns\n",
    "data_2016 = (\n",
    "    data_2016.groupby([\"STATE\", \"SOURCE\"])[\"MWH\"].sum().unstack(\"SOURCE\", fill_value=0)\n",
    ")\n",
    "show(data_2016)"
   ]
  },
  {
   "cell_type": "markdown",
   "metadata": {},
   "source": [
    "## Calculate the Euclidean distance between the energy profiles to find those nearest to Iowa's"
   ]
  },
  {
   "cell_type": "code",
   "execution_count": 3,
   "metadata": {},
   "outputs": [
    {
     "name": "stdout",
     "output_type": "stream",
     "text": [
      "Top 10 states with similar energy profiles to Iowa:\n",
      "State: IA, Distance: 0.0\n",
      "SOURCE\n",
      "COAL                              25198347\n",
      "GEOTHERMAL                               0\n",
      "HYDROELECTRIC CONVENTIONAL          916789\n",
      "NATURAL GAS                        2960947\n",
      "NUCLEAR                            4702665\n",
      "OTHER                                12121\n",
      "OTHER BIOMASS                       250670\n",
      "OTHER GASES                              0\n",
      "PETROLEUM                           277773\n",
      "PUMPED STORAGE                           0\n",
      "SOLAR THERMAL AND PHOTOVOLTAIC         151\n",
      "WIND                              20071999\n",
      "WOOD AND WOOD DERIVED FUELS           1045\n",
      "Name: IA, dtype: int64 \n",
      "\n",
      "State: KS, Distance: 7366582.099142994\n",
      "SOURCE\n",
      "COAL                              23096064\n",
      "GEOTHERMAL                               0\n",
      "HYDROELECTRIC CONVENTIONAL           30538\n",
      "NATURAL GAS                        2027207\n",
      "NUCLEAR                            8246042\n",
      "OTHER                                    1\n",
      "OTHER BIOMASS                        58832\n",
      "OTHER GASES                              0\n",
      "PETROLEUM                            28324\n",
      "PUMPED STORAGE                           0\n",
      "SOLAR THERMAL AND PHOTOVOLTAIC        2102\n",
      "WIND                              14110881\n",
      "WOOD AND WOOD DERIVED FUELS              0\n",
      "Name: KS, dtype: int64 \n",
      "\n",
      "State: ND, Distance: 13050780.661130928\n",
      "SOURCE\n",
      "COAL                              26580350\n",
      "GEOTHERMAL                               0\n",
      "HYDROELECTRIC CONVENTIONAL         1912005\n",
      "NATURAL GAS                        1071107\n",
      "NUCLEAR                                  0\n",
      "OTHER                                45107\n",
      "OTHER BIOMASS                         5606\n",
      "OTHER GASES                          40246\n",
      "PETROLEUM                            30109\n",
      "PUMPED STORAGE                           0\n",
      "SOLAR THERMAL AND PHOTOVOLTAIC           0\n",
      "WIND                               8171922\n",
      "WOOD AND WOOD DERIVED FUELS              0\n",
      "Name: ND, dtype: int64 \n",
      "\n",
      "State: MN, Distance: 15106212.531543339\n",
      "SOURCE\n",
      "COAL                              23206289\n",
      "GEOTHERMAL                               0\n",
      "HYDROELECTRIC CONVENTIONAL         1208502\n",
      "NATURAL GAS                        8928076\n",
      "NUCLEAR                           13860816\n",
      "OTHER                               407430\n",
      "OTHER BIOMASS                       674321\n",
      "OTHER GASES                              0\n",
      "PETROLEUM                            32027\n",
      "PUMPED STORAGE                           0\n",
      "SOLAR THERMAL AND PHOTOVOLTAIC       10107\n",
      "WIND                               9933487\n",
      "WOOD AND WOOD DERIVED FUELS        1217697\n",
      "Name: MN, dtype: int64 \n",
      "\n"
     ]
    }
   ],
   "source": [
    "# Compute the Euclidean distance between each state with reference to Iowa\n",
    "distances = {}\n",
    "for state, row in data_2016.iterrows():\n",
    "    distances[state] = distance.euclidean(data_2016.loc[\"IA\"], row)\n",
    "\n",
    "# Sort the states by distance from Iowa\n",
    "sorted_states = sorted(distances.items(), key=lambda x: x[1])\n",
    "\n",
    "# Print the top 10 states with similar energy profiles to Iowa\n",
    "print(\"Top 10 states with similar energy profiles to Iowa:\")\n",
    "for i in range(4):\n",
    "    e_profile = data_2016.loc[sorted_states[i][0]]\n",
    "    print(f\"State: {sorted_states[i][0]}, Distance: {sorted_states[i][1]}\")\n",
    "    print(f'{e_profile} \\n')\n"
   ]
  },
  {
   "cell_type": "markdown",
   "metadata": {},
   "source": [
    "## Visualize the Euclidean distances using t-SNE to reduce dimensionality"
   ]
  },
  {
   "cell_type": "code",
   "execution_count": 4,
   "metadata": {},
   "outputs": [
    {
     "data": {
      "application/vnd.plotly.v1+json": {
       "config": {
        "plotlyServerURL": "https://plot.ly"
       },
       "data": [
        {
         "hovertemplate": "<b>%{hovertext}</b><br><br>t-SNE 1=%{x}<br>t-SNE 2=%{y}<br>t-SNE 3=%{z}<br>STATE=%{text}<br>Energy Profile Distance to IA=%{marker.color}<extra></extra>",
         "hovertext": [
          "IA",
          "KS",
          "ND",
          "MN",
          "CO",
          "NE",
          "NM",
          "UT",
          "WY",
          "MT",
          "WI",
          "MD",
          "AR",
          "SD",
          "ME",
          "HI",
          "AK",
          "ID",
          "NH",
          "VT",
          "DE",
          "DC",
          "RI",
          "TN",
          "OK",
          "MA",
          "CT",
          "MO",
          "NV",
          "MI",
          "OR",
          "KY",
          "AZ",
          "WV",
          "VA",
          "IN",
          "MS",
          "OH",
          "SC",
          "NJ",
          "NC",
          "GA",
          "AL",
          "LA",
          "NY",
          "WA",
          "IL",
          "CA",
          "PA",
          "FL",
          "TX"
         ],
         "legendgroup": "",
         "marker": {
          "color": [
           0,
           7366582.099142994,
           13050780.661130928,
           15106212.531543339,
           15938301.924376165,
           17415899.698078133,
           19752682.815386117,
           20677393.037169047,
           22201658.970421106,
           23526400.83365794,
           24529164.051268198,
           24879062.269819595,
           26849494.033131164,
           29042331.008343905,
           31683836.95084063,
           31805734.175265644,
           32007915.94881983,
           32060998.200673573,
           32280648.903599724,
           32518918.069199197,
           32559340.81459015,
           32703923.220751863,
           32724314.459938288,
           34076487.75542104,
           34471967.039025955,
           35657550.7411989,
           37351435.48062113,
           40308466.93429633,
           40467219.47999469,
           43503534.06482714,
           44898832.71159302,
           46828146.13189544,
           46932025.36865654,
           50181928.657529265,
           50560137.500436954,
           52809105.929472476,
           54985732.615213186,
           55927059.45634543,
           56756615.20884303,
           57250268.74667525,
           57862234.85338953,
           62985509.39001375,
           69133629.4652221,
           69279428.26884232,
           75790226.9201343,
           81583823.76455283,
           101409127.83597839,
           104929508.42105806,
           107262878.85560182,
           159464926.61310825,
           248529693.2275597
          ],
          "coloraxis": "coloraxis",
          "opacity": 0.8,
          "size": 3,
          "symbol": "circle"
         },
         "mode": "markers+text",
         "name": "",
         "scene": "scene",
         "showlegend": false,
         "text": [
          "IA",
          "KS",
          "ND",
          "MN",
          "CO",
          "NE",
          "NM",
          "UT",
          "WY",
          "MT",
          "WI",
          "MD",
          "AR",
          "SD",
          "ME",
          "HI",
          "AK",
          "ID",
          "NH",
          "VT",
          "DE",
          "DC",
          "RI",
          "TN",
          "OK",
          "MA",
          "CT",
          "MO",
          "NV",
          "MI",
          "OR",
          "KY",
          "AZ",
          "WV",
          "VA",
          "IN",
          "MS",
          "OH",
          "SC",
          "NJ",
          "NC",
          "GA",
          "AL",
          "LA",
          "NY",
          "WA",
          "IL",
          "CA",
          "PA",
          "FL",
          "TX"
         ],
         "textfont": {
          "size": 5
         },
         "type": "scatter3d",
         "x": [
          -79.10179901123047,
          -23.834943771362305,
          42.478607177734375,
          -43.163238525390625,
          -27.20452880859375,
          86.84547424316406,
          -4.935840129852295,
          79.51089477539062,
          40.50402069091797,
          -36.441673278808594,
          -13.444153785705566,
          -55.519996643066406,
          -92.67713928222656,
          62.36146545410156,
          43.58059310913086,
          -99.50223541259766,
          11.53689193725586,
          25.862031936645508,
          8.793829917907715,
          4.819962978363037,
          -19.868520736694336,
          88.45193481445312,
          60.79294204711914,
          -50.42030334472656,
          -9.880109786987305,
          -71.15974426269531,
          27.060691833496094,
          -81.94573974609375,
          25.61988067626953,
          24.95123291015625,
          69.53253173828125,
          -36.553321838378906,
          -107.35531616210938,
          134.0574951171875,
          -92.59779357910156,
          28.116853713989258,
          68.82073974609375,
          -14.689857482910156,
          52.19691467285156,
          -85.45037078857422,
          -107.12821960449219,
          -54.782962799072266,
          -29.49931526184082,
          18.607131958007812,
          -49.43115997314453,
          14.738997459411621,
          25.360706329345703,
          119.44074249267578,
          -52.65928268432617,
          -141.31295776367188,
          98.2818374633789
         ],
         "y": [
          67.39088439941406,
          47.9873161315918,
          -121.11851501464844,
          86.15628051757812,
          -122.83777618408203,
          -66.67317199707031,
          -101.23074340820312,
          -26.821556091308594,
          -93.20653533935547,
          10.22346305847168,
          -87.9254150390625,
          -4.1878252029418945,
          -9.30312442779541,
          18.387575149536133,
          69.8070068359375,
          45.89863204956055,
          -38.19916534423828,
          2.657808303833008,
          55.016902923583984,
          50.836605072021484,
          -39.772029876708984,
          22.92194366455078,
          41.91035079956055,
          23.5335693359375,
          2.747363805770874,
          -76.19953918457031,
          49.60390090942383,
          44.221317291259766,
          -13.23473072052002,
          -40.91816711425781,
          -40.9958610534668,
          -97.32615661621094,
          -36.32071304321289,
          3.6201858520507812,
          -77.07154846191406,
          127.97305297851562,
          -99.44449615478516,
          126.62922668457031,
          102.95539093017578,
          90.7278060913086,
          -2.7993452548980713,
          -35.79490661621094,
          91.73674774169922,
          -72.46692657470703,
          -46.974334716796875,
          -11.643855094909668,
          38.134334564208984,
          80.07905578613281,
          -6.943483352661133,
          -45.35362243652344,
          -1.657202959060669
         ],
         "z": [
          76.93136596679688,
          91.17089080810547,
          -25.13995933532715,
          19.2628173828125,
          4.0025739669799805,
          -31.990964889526367,
          70.81845092773438,
          15.436162948608398,
          -90.03401947021484,
          37.68410873413086,
          -45.29616165161133,
          108.69084167480469,
          54.1226921081543,
          -37.29669952392578,
          76.24028015136719,
          19.0037841796875,
          118.75630950927734,
          68.6801986694336,
          -24.3444766998291,
          33.871456146240234,
          66.89917755126953,
          72.05054473876953,
          17.868921279907227,
          -24.882287979125977,
          -70.85623931884766,
          57.97750473022461,
          -91.1186294555664,
          -92.2314453125,
          -119.5676040649414,
          -51.76512145996094,
          82.7242660522461,
          -108.04698944091797,
          -85.60673522949219,
          -29.033063888549805,
          -33.222328186035156,
          16.138704299926758,
          42.420936584472656,
          77.32394409179688,
          -57.77717590332031,
          -36.95911407470703,
          -37.23337936401367,
          -62.07994079589844,
          -75.59288787841797,
          16.25863265991211,
          -0.29916858673095703,
          5.412601947784424,
          148.6444854736328,
          10.404020309448242,
          -131.8630828857422,
          14.035311698913574,
          -104.93665313720703
         ]
        }
       ],
       "layout": {
        "coloraxis": {
         "colorbar": {
          "title": {
           "text": "Energy Profile Distance to IA"
          }
         },
         "colorscale": [
          [
           0,
           "green"
          ],
          [
           0.1,
           "yellow"
          ],
          [
           0.5,
           "orange"
          ],
          [
           1,
           "red"
          ]
         ]
        },
        "legend": {
         "tracegroupgap": 0
        },
        "scene": {
         "domain": {
          "x": [
           0,
           1
          ],
          "y": [
           0,
           1
          ]
         },
         "xaxis": {
          "title": {
           "text": "t-SNE 1"
          }
         },
         "yaxis": {
          "title": {
           "text": "t-SNE 2"
          }
         },
         "zaxis": {
          "title": {
           "text": "t-SNE 3"
          }
         }
        },
        "template": {
         "data": {
          "bar": [
           {
            "error_x": {
             "color": "#2a3f5f"
            },
            "error_y": {
             "color": "#2a3f5f"
            },
            "marker": {
             "line": {
              "color": "#E5ECF6",
              "width": 0.5
             },
             "pattern": {
              "fillmode": "overlay",
              "size": 10,
              "solidity": 0.2
             }
            },
            "type": "bar"
           }
          ],
          "barpolar": [
           {
            "marker": {
             "line": {
              "color": "#E5ECF6",
              "width": 0.5
             },
             "pattern": {
              "fillmode": "overlay",
              "size": 10,
              "solidity": 0.2
             }
            },
            "type": "barpolar"
           }
          ],
          "carpet": [
           {
            "aaxis": {
             "endlinecolor": "#2a3f5f",
             "gridcolor": "white",
             "linecolor": "white",
             "minorgridcolor": "white",
             "startlinecolor": "#2a3f5f"
            },
            "baxis": {
             "endlinecolor": "#2a3f5f",
             "gridcolor": "white",
             "linecolor": "white",
             "minorgridcolor": "white",
             "startlinecolor": "#2a3f5f"
            },
            "type": "carpet"
           }
          ],
          "choropleth": [
           {
            "colorbar": {
             "outlinewidth": 0,
             "ticks": ""
            },
            "type": "choropleth"
           }
          ],
          "contour": [
           {
            "colorbar": {
             "outlinewidth": 0,
             "ticks": ""
            },
            "colorscale": [
             [
              0,
              "#0d0887"
             ],
             [
              0.1111111111111111,
              "#46039f"
             ],
             [
              0.2222222222222222,
              "#7201a8"
             ],
             [
              0.3333333333333333,
              "#9c179e"
             ],
             [
              0.4444444444444444,
              "#bd3786"
             ],
             [
              0.5555555555555556,
              "#d8576b"
             ],
             [
              0.6666666666666666,
              "#ed7953"
             ],
             [
              0.7777777777777778,
              "#fb9f3a"
             ],
             [
              0.8888888888888888,
              "#fdca26"
             ],
             [
              1,
              "#f0f921"
             ]
            ],
            "type": "contour"
           }
          ],
          "contourcarpet": [
           {
            "colorbar": {
             "outlinewidth": 0,
             "ticks": ""
            },
            "type": "contourcarpet"
           }
          ],
          "heatmap": [
           {
            "colorbar": {
             "outlinewidth": 0,
             "ticks": ""
            },
            "colorscale": [
             [
              0,
              "#0d0887"
             ],
             [
              0.1111111111111111,
              "#46039f"
             ],
             [
              0.2222222222222222,
              "#7201a8"
             ],
             [
              0.3333333333333333,
              "#9c179e"
             ],
             [
              0.4444444444444444,
              "#bd3786"
             ],
             [
              0.5555555555555556,
              "#d8576b"
             ],
             [
              0.6666666666666666,
              "#ed7953"
             ],
             [
              0.7777777777777778,
              "#fb9f3a"
             ],
             [
              0.8888888888888888,
              "#fdca26"
             ],
             [
              1,
              "#f0f921"
             ]
            ],
            "type": "heatmap"
           }
          ],
          "heatmapgl": [
           {
            "colorbar": {
             "outlinewidth": 0,
             "ticks": ""
            },
            "colorscale": [
             [
              0,
              "#0d0887"
             ],
             [
              0.1111111111111111,
              "#46039f"
             ],
             [
              0.2222222222222222,
              "#7201a8"
             ],
             [
              0.3333333333333333,
              "#9c179e"
             ],
             [
              0.4444444444444444,
              "#bd3786"
             ],
             [
              0.5555555555555556,
              "#d8576b"
             ],
             [
              0.6666666666666666,
              "#ed7953"
             ],
             [
              0.7777777777777778,
              "#fb9f3a"
             ],
             [
              0.8888888888888888,
              "#fdca26"
             ],
             [
              1,
              "#f0f921"
             ]
            ],
            "type": "heatmapgl"
           }
          ],
          "histogram": [
           {
            "marker": {
             "pattern": {
              "fillmode": "overlay",
              "size": 10,
              "solidity": 0.2
             }
            },
            "type": "histogram"
           }
          ],
          "histogram2d": [
           {
            "colorbar": {
             "outlinewidth": 0,
             "ticks": ""
            },
            "colorscale": [
             [
              0,
              "#0d0887"
             ],
             [
              0.1111111111111111,
              "#46039f"
             ],
             [
              0.2222222222222222,
              "#7201a8"
             ],
             [
              0.3333333333333333,
              "#9c179e"
             ],
             [
              0.4444444444444444,
              "#bd3786"
             ],
             [
              0.5555555555555556,
              "#d8576b"
             ],
             [
              0.6666666666666666,
              "#ed7953"
             ],
             [
              0.7777777777777778,
              "#fb9f3a"
             ],
             [
              0.8888888888888888,
              "#fdca26"
             ],
             [
              1,
              "#f0f921"
             ]
            ],
            "type": "histogram2d"
           }
          ],
          "histogram2dcontour": [
           {
            "colorbar": {
             "outlinewidth": 0,
             "ticks": ""
            },
            "colorscale": [
             [
              0,
              "#0d0887"
             ],
             [
              0.1111111111111111,
              "#46039f"
             ],
             [
              0.2222222222222222,
              "#7201a8"
             ],
             [
              0.3333333333333333,
              "#9c179e"
             ],
             [
              0.4444444444444444,
              "#bd3786"
             ],
             [
              0.5555555555555556,
              "#d8576b"
             ],
             [
              0.6666666666666666,
              "#ed7953"
             ],
             [
              0.7777777777777778,
              "#fb9f3a"
             ],
             [
              0.8888888888888888,
              "#fdca26"
             ],
             [
              1,
              "#f0f921"
             ]
            ],
            "type": "histogram2dcontour"
           }
          ],
          "mesh3d": [
           {
            "colorbar": {
             "outlinewidth": 0,
             "ticks": ""
            },
            "type": "mesh3d"
           }
          ],
          "parcoords": [
           {
            "line": {
             "colorbar": {
              "outlinewidth": 0,
              "ticks": ""
             }
            },
            "type": "parcoords"
           }
          ],
          "pie": [
           {
            "automargin": true,
            "type": "pie"
           }
          ],
          "scatter": [
           {
            "fillpattern": {
             "fillmode": "overlay",
             "size": 10,
             "solidity": 0.2
            },
            "type": "scatter"
           }
          ],
          "scatter3d": [
           {
            "line": {
             "colorbar": {
              "outlinewidth": 0,
              "ticks": ""
             }
            },
            "marker": {
             "colorbar": {
              "outlinewidth": 0,
              "ticks": ""
             }
            },
            "type": "scatter3d"
           }
          ],
          "scattercarpet": [
           {
            "marker": {
             "colorbar": {
              "outlinewidth": 0,
              "ticks": ""
             }
            },
            "type": "scattercarpet"
           }
          ],
          "scattergeo": [
           {
            "marker": {
             "colorbar": {
              "outlinewidth": 0,
              "ticks": ""
             }
            },
            "type": "scattergeo"
           }
          ],
          "scattergl": [
           {
            "marker": {
             "colorbar": {
              "outlinewidth": 0,
              "ticks": ""
             }
            },
            "type": "scattergl"
           }
          ],
          "scattermapbox": [
           {
            "marker": {
             "colorbar": {
              "outlinewidth": 0,
              "ticks": ""
             }
            },
            "type": "scattermapbox"
           }
          ],
          "scatterpolar": [
           {
            "marker": {
             "colorbar": {
              "outlinewidth": 0,
              "ticks": ""
             }
            },
            "type": "scatterpolar"
           }
          ],
          "scatterpolargl": [
           {
            "marker": {
             "colorbar": {
              "outlinewidth": 0,
              "ticks": ""
             }
            },
            "type": "scatterpolargl"
           }
          ],
          "scatterternary": [
           {
            "marker": {
             "colorbar": {
              "outlinewidth": 0,
              "ticks": ""
             }
            },
            "type": "scatterternary"
           }
          ],
          "surface": [
           {
            "colorbar": {
             "outlinewidth": 0,
             "ticks": ""
            },
            "colorscale": [
             [
              0,
              "#0d0887"
             ],
             [
              0.1111111111111111,
              "#46039f"
             ],
             [
              0.2222222222222222,
              "#7201a8"
             ],
             [
              0.3333333333333333,
              "#9c179e"
             ],
             [
              0.4444444444444444,
              "#bd3786"
             ],
             [
              0.5555555555555556,
              "#d8576b"
             ],
             [
              0.6666666666666666,
              "#ed7953"
             ],
             [
              0.7777777777777778,
              "#fb9f3a"
             ],
             [
              0.8888888888888888,
              "#fdca26"
             ],
             [
              1,
              "#f0f921"
             ]
            ],
            "type": "surface"
           }
          ],
          "table": [
           {
            "cells": {
             "fill": {
              "color": "#EBF0F8"
             },
             "line": {
              "color": "white"
             }
            },
            "header": {
             "fill": {
              "color": "#C8D4E3"
             },
             "line": {
              "color": "white"
             }
            },
            "type": "table"
           }
          ]
         },
         "layout": {
          "annotationdefaults": {
           "arrowcolor": "#2a3f5f",
           "arrowhead": 0,
           "arrowwidth": 1
          },
          "autotypenumbers": "strict",
          "coloraxis": {
           "colorbar": {
            "outlinewidth": 0,
            "ticks": ""
           }
          },
          "colorscale": {
           "diverging": [
            [
             0,
             "#8e0152"
            ],
            [
             0.1,
             "#c51b7d"
            ],
            [
             0.2,
             "#de77ae"
            ],
            [
             0.3,
             "#f1b6da"
            ],
            [
             0.4,
             "#fde0ef"
            ],
            [
             0.5,
             "#f7f7f7"
            ],
            [
             0.6,
             "#e6f5d0"
            ],
            [
             0.7,
             "#b8e186"
            ],
            [
             0.8,
             "#7fbc41"
            ],
            [
             0.9,
             "#4d9221"
            ],
            [
             1,
             "#276419"
            ]
           ],
           "sequential": [
            [
             0,
             "#0d0887"
            ],
            [
             0.1111111111111111,
             "#46039f"
            ],
            [
             0.2222222222222222,
             "#7201a8"
            ],
            [
             0.3333333333333333,
             "#9c179e"
            ],
            [
             0.4444444444444444,
             "#bd3786"
            ],
            [
             0.5555555555555556,
             "#d8576b"
            ],
            [
             0.6666666666666666,
             "#ed7953"
            ],
            [
             0.7777777777777778,
             "#fb9f3a"
            ],
            [
             0.8888888888888888,
             "#fdca26"
            ],
            [
             1,
             "#f0f921"
            ]
           ],
           "sequentialminus": [
            [
             0,
             "#0d0887"
            ],
            [
             0.1111111111111111,
             "#46039f"
            ],
            [
             0.2222222222222222,
             "#7201a8"
            ],
            [
             0.3333333333333333,
             "#9c179e"
            ],
            [
             0.4444444444444444,
             "#bd3786"
            ],
            [
             0.5555555555555556,
             "#d8576b"
            ],
            [
             0.6666666666666666,
             "#ed7953"
            ],
            [
             0.7777777777777778,
             "#fb9f3a"
            ],
            [
             0.8888888888888888,
             "#fdca26"
            ],
            [
             1,
             "#f0f921"
            ]
           ]
          },
          "colorway": [
           "#636efa",
           "#EF553B",
           "#00cc96",
           "#ab63fa",
           "#FFA15A",
           "#19d3f3",
           "#FF6692",
           "#B6E880",
           "#FF97FF",
           "#FECB52"
          ],
          "font": {
           "color": "#2a3f5f"
          },
          "geo": {
           "bgcolor": "white",
           "lakecolor": "white",
           "landcolor": "#E5ECF6",
           "showlakes": true,
           "showland": true,
           "subunitcolor": "white"
          },
          "hoverlabel": {
           "align": "left"
          },
          "hovermode": "closest",
          "mapbox": {
           "style": "light"
          },
          "paper_bgcolor": "white",
          "plot_bgcolor": "#E5ECF6",
          "polar": {
           "angularaxis": {
            "gridcolor": "white",
            "linecolor": "white",
            "ticks": ""
           },
           "bgcolor": "#E5ECF6",
           "radialaxis": {
            "gridcolor": "white",
            "linecolor": "white",
            "ticks": ""
           }
          },
          "scene": {
           "xaxis": {
            "backgroundcolor": "#E5ECF6",
            "gridcolor": "white",
            "gridwidth": 2,
            "linecolor": "white",
            "showbackground": true,
            "ticks": "",
            "zerolinecolor": "white"
           },
           "yaxis": {
            "backgroundcolor": "#E5ECF6",
            "gridcolor": "white",
            "gridwidth": 2,
            "linecolor": "white",
            "showbackground": true,
            "ticks": "",
            "zerolinecolor": "white"
           },
           "zaxis": {
            "backgroundcolor": "#E5ECF6",
            "gridcolor": "white",
            "gridwidth": 2,
            "linecolor": "white",
            "showbackground": true,
            "ticks": "",
            "zerolinecolor": "white"
           }
          },
          "shapedefaults": {
           "line": {
            "color": "#2a3f5f"
           }
          },
          "ternary": {
           "aaxis": {
            "gridcolor": "white",
            "linecolor": "white",
            "ticks": ""
           },
           "baxis": {
            "gridcolor": "white",
            "linecolor": "white",
            "ticks": ""
           },
           "bgcolor": "#E5ECF6",
           "caxis": {
            "gridcolor": "white",
            "linecolor": "white",
            "ticks": ""
           }
          },
          "title": {
           "x": 0.05
          },
          "xaxis": {
           "automargin": true,
           "gridcolor": "white",
           "linecolor": "white",
           "ticks": "",
           "title": {
            "standoff": 15
           },
           "zerolinecolor": "white",
           "zerolinewidth": 2
          },
          "yaxis": {
           "automargin": true,
           "gridcolor": "white",
           "linecolor": "white",
           "ticks": "",
           "title": {
            "standoff": 15
           },
           "zerolinecolor": "white",
           "zerolinewidth": 2
          }
         }
        },
        "title": {
         "text": "t-SNE of Energy Sources Profiles in 2016"
        }
       }
      }
     },
     "metadata": {},
     "output_type": "display_data"
    }
   ],
   "source": [
    "# Use t-SNE to reduce dimensionality to 3D\n",
    "tsne = TSNE(n_components=3, random_state=42)\n",
    "reduced_data_tsne = tsne.fit_transform(data_2016)\n",
    "\n",
    "# Create a dataframe with the reduced data\n",
    "reduced_df_tsne = pd.DataFrame(reduced_data_tsne, columns=[\"x\", \"y\", \"z\"])\n",
    "reduced_df_tsne.index = data_2016.index\n",
    "\n",
    "\n",
    "# Add the distance column to the dataframe and sort\n",
    "reduced_df_tsne[\"DISTANCE_TO_IA\"] = reduced_df_tsne.index.map(lambda x: distances[x])\n",
    "reduced_df_tsne.sort_values(\"DISTANCE_TO_IA\", inplace=True)\n",
    "\n",
    "# Closer to IA -> Yellow, Farther from IA -> Red, IA itself -> Green\n",
    "color_scale = [(0, \"green\"), (0.1, \"yellow\"), (.5, \"orange\"), (1, \"red\")]\n",
    "\n",
    "# Create interactive plotly scatter plot\n",
    "fig = px.scatter_3d(\n",
    "    reduced_df_tsne,\n",
    "    x=\"x\",\n",
    "    y=\"y\",\n",
    "    z=\"z\",\n",
    "    text=reduced_df_tsne.index,\n",
    "    hover_name=reduced_df_tsne.index,\n",
    "    color=\"DISTANCE_TO_IA\",\n",
    "    color_continuous_scale=color_scale,\n",
    "    opacity=0.8,\n",
    "    labels={\n",
    "        \"x\": \"t-SNE 1\",\n",
    "        \"y\": \"t-SNE 2\",\n",
    "        \"z\": \"t-SNE 3\",\n",
    "        \"DISTANCE_TO_IA\": \"Energy Profile Distance to IA\",\n",
    "    },\n",
    "    title=\"t-SNE of Energy Sources Profiles in 2016\",\n",
    ")\n",
    "\n",
    "fig.update_traces(marker=dict(size=3), textfont=dict(size=5))\n",
    "fig.show()"
   ]
  }
 ],
 "metadata": {
  "kernelspec": {
   "display_name": "HonorsThesis",
   "language": "python",
   "name": "python3"
  },
  "language_info": {
   "codemirror_mode": {
    "name": "ipython",
    "version": 3
   },
   "file_extension": ".py",
   "mimetype": "text/x-python",
   "name": "python",
   "nbconvert_exporter": "python",
   "pygments_lexer": "ipython3",
   "version": "3.11.4"
  },
  "orig_nbformat": 4
 },
 "nbformat": 4,
 "nbformat_minor": 2
}
