{
 "cells": [
  {
   "cell_type": "code",
   "execution_count": 45,
   "metadata": {},
   "outputs": [],
   "source": [
    "import pandas as pd\n",
    "from scipy.spatial import distance\n",
    "from sklearn.manifold import TSNE\n",
    "import plotly.express as px\n",
    "\n",
    "pd.set_option(\"display.float_format\", lambda x: \"%.10f\" % x)"
   ]
  },
  {
   "cell_type": "markdown",
   "metadata": {},
   "source": [
    "## Clean data for energy profile comparison"
   ]
  },
  {
   "cell_type": "code",
   "execution_count": 46,
   "metadata": {},
   "outputs": [],
   "source": [
    "# Import data and rename columns for better readability\n",
    "data = pd.read_csv(\"Data/annual_generation_state.csv\", thousands=\",\")\n",
    "data.rename(\n",
    "    columns={\n",
    "        \"TYPE OF PRODUCER\": \"PRODUCER\",\n",
    "        \"ENERGY SOURCE\": \"SOURCE\",\n",
    "        \"GENERATION (Megawatthours)\": \"MWH\",\n",
    "    },\n",
    "    inplace=True,\n",
    ")\n",
    "\n",
    "# Change all strings to upper for consistency (state column has 'US-Total' and 'US-TOTAL')\n",
    "data[\"STATE\"] = data[\"STATE\"].str.upper()\n",
    "data[\"PRODUCER\"] = data[\"PRODUCER\"].str.upper()\n",
    "data[\"SOURCE\"] = data[\"SOURCE\"].str.upper()\n",
    "\n",
    "# Filter data to not include 'US-TOTAL' \n",
    "data =  data[data['STATE'] != 'US-TOTAL']\n",
    "\n",
    "# Remove the blank state rows (3 rows for 2003 with 0 generation in coal, natural gas, and petroleum)\n",
    "data = data[data['STATE'] != '  ']\n",
    "\n",
    "\n",
    "# Filter data for 2016 and only include 'Total Electric Power Industry'\n",
    "data_2016 = data[\n",
    "    (data[\"YEAR\"] == 2016) & (data[\"PRODUCER\"] == \"TOTAL ELECTRIC POWER INDUSTRY\")\n",
    "]\n",
    "\n",
    "# Group and pivot the data to have energy sources as columns\n",
    "data_2016 = (\n",
    "    data_2016.groupby([\"STATE\", \"SOURCE\"])[\"MWH\"].sum().unstack(\"SOURCE\", fill_value=0)\n",
    ")"
   ]
  },
  {
   "cell_type": "markdown",
   "metadata": {},
   "source": [
    "## Calculate the Euclidean distance between the energy profiles to find those nearest to Iowa's"
   ]
  },
  {
   "cell_type": "code",
   "execution_count": 47,
   "metadata": {},
   "outputs": [
    {
     "name": "stdout",
     "output_type": "stream",
     "text": [
      "Top 10 states with similar energy profiles to Iowa:\n",
      "State: IA, Distance: 0.0\n",
      "State: KS, Distance: 10020219.82960803\n",
      "State: CO, Distance: 15938323.087116223\n",
      "State: MN, Distance: 15939496.711649116\n",
      "State: ND, Distance: 21065706.51148387\n",
      "State: WY, Distance: 23510794.41443885\n",
      "State: NE, Distance: 24951273.514443345\n",
      "State: UT, Distance: 26303915.562379833\n",
      "State: WI, Distance: 26711262.876487963\n",
      "State: AR, Distance: 27523239.5540178\n"
     ]
    }
   ],
   "source": [
    "# Compute the Euclidean distance between each state with reference to Iowa\n",
    "distances = {}\n",
    "for state, row in data_2016.iterrows():\n",
    "    distances[state] = distance.euclidean(data_2016.loc[\"IA\"], row)\n",
    "\n",
    "# Sort the states by distance from Iowa\n",
    "sorted_states = sorted(distances.items(), key=lambda x: x[1])\n",
    "\n",
    "# Print the top 10 states with similar energy profiles to Iowa\n",
    "print(\"Top 10 states with similar energy profiles to Iowa:\")\n",
    "for i in range(10):\n",
    "    e_profile = data_2016.loc[sorted_states[i][0]]\n",
    "    print(f\"State: {sorted_states[i][0]}, Distance: {sorted_states[i][1]}\")"
   ]
  },
  {
   "cell_type": "markdown",
   "metadata": {},
   "source": [
    "## Visualize the Euclidean distances using t-SNE to reduce dimensionality"
   ]
  },
  {
   "cell_type": "code",
   "execution_count": 49,
   "metadata": {},
   "outputs": [
    {
     "data": {
      "application/vnd.plotly.v1+json": {
       "config": {
        "plotlyServerURL": "https://plot.ly"
       },
       "data": [
        {
         "hovertemplate": "<b>%{hovertext}</b><br><br>t-SNE 1=%{x}<br>t-SNE 2=%{y}<br>t-SNE 3=%{z}<br>STATE=%{text}<br>Energy Profile Distance to IA=%{marker.color}<extra></extra>",
         "hovertext": [
          "IA",
          "KS",
          "CO",
          "MN",
          "ND",
          "WY",
          "NE",
          "UT",
          "WI",
          "AR",
          "NM",
          "MD",
          "MT",
          "CT",
          "MA",
          "OK",
          "TN",
          "NV",
          "OR",
          "MO",
          "NH",
          "ID",
          "SD",
          "ME",
          "KY",
          "WV",
          "HI",
          "MS",
          "DE",
          "AK",
          "RI",
          "VT",
          "NJ",
          "VA",
          "DC",
          "IN",
          "SC",
          "AZ",
          "MI",
          "OH",
          "LA",
          "NC",
          "GA",
          "WA",
          "NY",
          "AL",
          "IL",
          "CA",
          "PA",
          "FL",
          "TX"
         ],
         "legendgroup": "",
         "marker": {
          "color": [
           0,
           10020219.82960803,
           15938323.087116223,
           15939496.711649116,
           21065706.51148387,
           23510794.41443885,
           24951273.514443345,
           26303915.562379833,
           26711262.876487963,
           27523239.5540178,
           29181821.844064053,
           30260479.409585714,
           35518012.984828204,
           41417323.08454775,
           42129581.744736075,
           42154304.854779564,
           42232878.289991505,
           43022279.58992952,
           45270559.51264189,
           47024810.028550856,
           47694374.686305195,
           50279638.45161732,
           51779823.36036444,
           53314118.84682944,
           53504215.91405849,
           54613627.72332449,
           54652024.8334671,
           55637130.70370059,
           56080835.05577598,
           57741037.352410324,
           57951377.74934959,
           61739508.27534416,
           61779530.615126535,
           63345827.89541275,
           63401719.49471025,
           70939353.7991357,
           70961249.36775509,
           71824886.62832393,
           72285735.74242476,
           86123412.90218402,
           87152406.53986485,
           95827754.43706957,
           101026056.84333023,
           101090567.7605544,
           110189073.98645617,
           111902434.26274474,
           167168549.31191805,
           177021491.68139488,
           193167021.074756,
           243386746.6331547,
           470628510.16787326
          ],
          "coloraxis": "coloraxis",
          "opacity": 0.8,
          "size": 3,
          "symbol": "circle"
         },
         "mode": "markers+text",
         "name": "",
         "scene": "scene",
         "showlegend": false,
         "text": [
          "IA",
          "KS",
          "CO",
          "MN",
          "ND",
          "WY",
          "NE",
          "UT",
          "WI",
          "AR",
          "NM",
          "MD",
          "MT",
          "CT",
          "MA",
          "OK",
          "TN",
          "NV",
          "OR",
          "MO",
          "NH",
          "ID",
          "SD",
          "ME",
          "KY",
          "WV",
          "HI",
          "MS",
          "DE",
          "AK",
          "RI",
          "VT",
          "NJ",
          "VA",
          "DC",
          "IN",
          "SC",
          "AZ",
          "MI",
          "OH",
          "LA",
          "NC",
          "GA",
          "WA",
          "NY",
          "AL",
          "IL",
          "CA",
          "PA",
          "FL",
          "TX"
         ],
         "textfont": {
          "size": 5
         },
         "type": "scatter3d",
         "x": [
          112.78205871582031,
          -20.413244247436523,
          -102.77816772460938,
          81.05335998535156,
          -96.11572265625,
          -67.1961669921875,
          -78.52000427246094,
          -83.94586181640625,
          -29.096195220947266,
          -10.882084846496582,
          95.06243896484375,
          16.348398208618164,
          79.50096893310547,
          7.986982822418213,
          -9.878569602966309,
          -76.82585906982422,
          -47.22273254394531,
          40.17626190185547,
          27.92536163330078,
          -69.2784652709961,
          42.493255615234375,
          43.08610534667969,
          62.751407623291016,
          -16.624019622802734,
          -136.8482208251953,
          56.243797302246094,
          118.92961883544922,
          -13.97303581237793,
          -73.95748138427734,
          82.4513168334961,
          -49.5811767578125,
          102.75321960449219,
          -15.578655242919922,
          -63.528038024902344,
          -38.61457061767578,
          29.86954689025879,
          -24.511558532714844,
          -25.442045211791992,
          -116.32835388183594,
          -12.221376419067383,
          -56.54286193847656,
          40.188873291015625,
          10.58520221710205,
          34.551395416259766,
          6.7079548835754395,
          19.666168212890625,
          -46.15864562988281,
          63.086708068847656,
          56.49403762817383,
          49.39693832397461,
          113.65259552001953
         ],
         "y": [
          42.447200775146484,
          -37.7159423828125,
          -40.17784881591797,
          -57.28057861328125,
          -68.17699432373047,
          1.2883949279785156,
          -21.215789794921875,
          50.92234420776367,
          108.38853454589844,
          -57.47174072265625,
          60.64252471923828,
          123.62373352050781,
          -22.073280334472656,
          17.266679763793945,
          -5.413662433624268,
          -72.5185317993164,
          -69.49861907958984,
          -13.58997917175293,
          -50.82046890258789,
          114.09574890136719,
          -57.92677307128906,
          101.82776641845703,
          2.071697473526001,
          73.90753936767578,
          13.726826667785645,
          77.28516387939453,
          -4.384146213531494,
          -105.56159210205078,
          64.00385284423828,
          -12.045105934143066,
          -85.15930938720703,
          -57.2492790222168,
          -8.129714012145996,
          -4.150410175323486,
          12.780774116516113,
          48.38682556152344,
          -121.6966552734375,
          50.38031005859375,
          29.899215698242188,
          -4.507903099060059,
          48.15571594238281,
          -118.13259887695312,
          -37.89698028564453,
          39.859256744384766,
          59.311553955078125,
          -58.859466552734375,
          66.0655288696289,
          90.03263092041016,
          -105.63953399658203,
          45.370079040527344,
          39.12417221069336
         ],
         "z": [
          65.13040161132812,
          64.8093032836914,
          19.917695999145508,
          -20.945985794067383,
          -39.42060089111328,
          55.487060546875,
          -86.33060455322266,
          24.72329330444336,
          -30.26591682434082,
          -35.92999267578125,
          3.9500484466552734,
          48.293270111083984,
          -83.6953125,
          60.07804489135742,
          -69.32542419433594,
          73.01394653320312,
          8.69642162322998,
          -35.83830642700195,
          15.052620887756348,
          20.229536056518555,
          77.46045684814453,
          -1.836889386177063,
          40.02352523803711,
          71.0196762084961,
          39.79387283325195,
          78.73313903808594,
          7.3138346672058105,
          54.193538665771484,
          95.8564224243164,
          101.7806167602539,
          -95.26962280273438,
          49.26761245727539,
          3.650867223739624,
          -22.127519607543945,
          119.95830535888672,
          130.0064697265625,
          -25.948909759521484,
          -1.3046094179153442,
          -40.47219467163086,
          -139.21153259277344,
          -55.44596862792969,
          -3.477320671081543,
          138.14971923828125,
          -11.663498878479004,
          -67.4328842163086,
          -107.9090576171875,
          -120.39724731445312,
          -79.25193786621094,
          -74.35697937011719,
          -121.70539855957031,
          -73.83317565917969
         ]
        }
       ],
       "layout": {
        "coloraxis": {
         "colorbar": {
          "title": {
           "text": "Energy Profile Distance to IA"
          }
         },
         "colorscale": [
          [
           0,
           "green"
          ],
          [
           0.1,
           "yellow"
          ],
          [
           0.5,
           "orange"
          ],
          [
           1,
           "red"
          ]
         ]
        },
        "legend": {
         "tracegroupgap": 0
        },
        "scene": {
         "domain": {
          "x": [
           0,
           1
          ],
          "y": [
           0,
           1
          ]
         },
         "xaxis": {
          "title": {
           "text": "t-SNE 1"
          }
         },
         "yaxis": {
          "title": {
           "text": "t-SNE 2"
          }
         },
         "zaxis": {
          "title": {
           "text": "t-SNE 3"
          }
         }
        },
        "template": {
         "data": {
          "bar": [
           {
            "error_x": {
             "color": "#2a3f5f"
            },
            "error_y": {
             "color": "#2a3f5f"
            },
            "marker": {
             "line": {
              "color": "#E5ECF6",
              "width": 0.5
             },
             "pattern": {
              "fillmode": "overlay",
              "size": 10,
              "solidity": 0.2
             }
            },
            "type": "bar"
           }
          ],
          "barpolar": [
           {
            "marker": {
             "line": {
              "color": "#E5ECF6",
              "width": 0.5
             },
             "pattern": {
              "fillmode": "overlay",
              "size": 10,
              "solidity": 0.2
             }
            },
            "type": "barpolar"
           }
          ],
          "carpet": [
           {
            "aaxis": {
             "endlinecolor": "#2a3f5f",
             "gridcolor": "white",
             "linecolor": "white",
             "minorgridcolor": "white",
             "startlinecolor": "#2a3f5f"
            },
            "baxis": {
             "endlinecolor": "#2a3f5f",
             "gridcolor": "white",
             "linecolor": "white",
             "minorgridcolor": "white",
             "startlinecolor": "#2a3f5f"
            },
            "type": "carpet"
           }
          ],
          "choropleth": [
           {
            "colorbar": {
             "outlinewidth": 0,
             "ticks": ""
            },
            "type": "choropleth"
           }
          ],
          "contour": [
           {
            "colorbar": {
             "outlinewidth": 0,
             "ticks": ""
            },
            "colorscale": [
             [
              0,
              "#0d0887"
             ],
             [
              0.1111111111111111,
              "#46039f"
             ],
             [
              0.2222222222222222,
              "#7201a8"
             ],
             [
              0.3333333333333333,
              "#9c179e"
             ],
             [
              0.4444444444444444,
              "#bd3786"
             ],
             [
              0.5555555555555556,
              "#d8576b"
             ],
             [
              0.6666666666666666,
              "#ed7953"
             ],
             [
              0.7777777777777778,
              "#fb9f3a"
             ],
             [
              0.8888888888888888,
              "#fdca26"
             ],
             [
              1,
              "#f0f921"
             ]
            ],
            "type": "contour"
           }
          ],
          "contourcarpet": [
           {
            "colorbar": {
             "outlinewidth": 0,
             "ticks": ""
            },
            "type": "contourcarpet"
           }
          ],
          "heatmap": [
           {
            "colorbar": {
             "outlinewidth": 0,
             "ticks": ""
            },
            "colorscale": [
             [
              0,
              "#0d0887"
             ],
             [
              0.1111111111111111,
              "#46039f"
             ],
             [
              0.2222222222222222,
              "#7201a8"
             ],
             [
              0.3333333333333333,
              "#9c179e"
             ],
             [
              0.4444444444444444,
              "#bd3786"
             ],
             [
              0.5555555555555556,
              "#d8576b"
             ],
             [
              0.6666666666666666,
              "#ed7953"
             ],
             [
              0.7777777777777778,
              "#fb9f3a"
             ],
             [
              0.8888888888888888,
              "#fdca26"
             ],
             [
              1,
              "#f0f921"
             ]
            ],
            "type": "heatmap"
           }
          ],
          "heatmapgl": [
           {
            "colorbar": {
             "outlinewidth": 0,
             "ticks": ""
            },
            "colorscale": [
             [
              0,
              "#0d0887"
             ],
             [
              0.1111111111111111,
              "#46039f"
             ],
             [
              0.2222222222222222,
              "#7201a8"
             ],
             [
              0.3333333333333333,
              "#9c179e"
             ],
             [
              0.4444444444444444,
              "#bd3786"
             ],
             [
              0.5555555555555556,
              "#d8576b"
             ],
             [
              0.6666666666666666,
              "#ed7953"
             ],
             [
              0.7777777777777778,
              "#fb9f3a"
             ],
             [
              0.8888888888888888,
              "#fdca26"
             ],
             [
              1,
              "#f0f921"
             ]
            ],
            "type": "heatmapgl"
           }
          ],
          "histogram": [
           {
            "marker": {
             "pattern": {
              "fillmode": "overlay",
              "size": 10,
              "solidity": 0.2
             }
            },
            "type": "histogram"
           }
          ],
          "histogram2d": [
           {
            "colorbar": {
             "outlinewidth": 0,
             "ticks": ""
            },
            "colorscale": [
             [
              0,
              "#0d0887"
             ],
             [
              0.1111111111111111,
              "#46039f"
             ],
             [
              0.2222222222222222,
              "#7201a8"
             ],
             [
              0.3333333333333333,
              "#9c179e"
             ],
             [
              0.4444444444444444,
              "#bd3786"
             ],
             [
              0.5555555555555556,
              "#d8576b"
             ],
             [
              0.6666666666666666,
              "#ed7953"
             ],
             [
              0.7777777777777778,
              "#fb9f3a"
             ],
             [
              0.8888888888888888,
              "#fdca26"
             ],
             [
              1,
              "#f0f921"
             ]
            ],
            "type": "histogram2d"
           }
          ],
          "histogram2dcontour": [
           {
            "colorbar": {
             "outlinewidth": 0,
             "ticks": ""
            },
            "colorscale": [
             [
              0,
              "#0d0887"
             ],
             [
              0.1111111111111111,
              "#46039f"
             ],
             [
              0.2222222222222222,
              "#7201a8"
             ],
             [
              0.3333333333333333,
              "#9c179e"
             ],
             [
              0.4444444444444444,
              "#bd3786"
             ],
             [
              0.5555555555555556,
              "#d8576b"
             ],
             [
              0.6666666666666666,
              "#ed7953"
             ],
             [
              0.7777777777777778,
              "#fb9f3a"
             ],
             [
              0.8888888888888888,
              "#fdca26"
             ],
             [
              1,
              "#f0f921"
             ]
            ],
            "type": "histogram2dcontour"
           }
          ],
          "mesh3d": [
           {
            "colorbar": {
             "outlinewidth": 0,
             "ticks": ""
            },
            "type": "mesh3d"
           }
          ],
          "parcoords": [
           {
            "line": {
             "colorbar": {
              "outlinewidth": 0,
              "ticks": ""
             }
            },
            "type": "parcoords"
           }
          ],
          "pie": [
           {
            "automargin": true,
            "type": "pie"
           }
          ],
          "scatter": [
           {
            "fillpattern": {
             "fillmode": "overlay",
             "size": 10,
             "solidity": 0.2
            },
            "type": "scatter"
           }
          ],
          "scatter3d": [
           {
            "line": {
             "colorbar": {
              "outlinewidth": 0,
              "ticks": ""
             }
            },
            "marker": {
             "colorbar": {
              "outlinewidth": 0,
              "ticks": ""
             }
            },
            "type": "scatter3d"
           }
          ],
          "scattercarpet": [
           {
            "marker": {
             "colorbar": {
              "outlinewidth": 0,
              "ticks": ""
             }
            },
            "type": "scattercarpet"
           }
          ],
          "scattergeo": [
           {
            "marker": {
             "colorbar": {
              "outlinewidth": 0,
              "ticks": ""
             }
            },
            "type": "scattergeo"
           }
          ],
          "scattergl": [
           {
            "marker": {
             "colorbar": {
              "outlinewidth": 0,
              "ticks": ""
             }
            },
            "type": "scattergl"
           }
          ],
          "scattermapbox": [
           {
            "marker": {
             "colorbar": {
              "outlinewidth": 0,
              "ticks": ""
             }
            },
            "type": "scattermapbox"
           }
          ],
          "scatterpolar": [
           {
            "marker": {
             "colorbar": {
              "outlinewidth": 0,
              "ticks": ""
             }
            },
            "type": "scatterpolar"
           }
          ],
          "scatterpolargl": [
           {
            "marker": {
             "colorbar": {
              "outlinewidth": 0,
              "ticks": ""
             }
            },
            "type": "scatterpolargl"
           }
          ],
          "scatterternary": [
           {
            "marker": {
             "colorbar": {
              "outlinewidth": 0,
              "ticks": ""
             }
            },
            "type": "scatterternary"
           }
          ],
          "surface": [
           {
            "colorbar": {
             "outlinewidth": 0,
             "ticks": ""
            },
            "colorscale": [
             [
              0,
              "#0d0887"
             ],
             [
              0.1111111111111111,
              "#46039f"
             ],
             [
              0.2222222222222222,
              "#7201a8"
             ],
             [
              0.3333333333333333,
              "#9c179e"
             ],
             [
              0.4444444444444444,
              "#bd3786"
             ],
             [
              0.5555555555555556,
              "#d8576b"
             ],
             [
              0.6666666666666666,
              "#ed7953"
             ],
             [
              0.7777777777777778,
              "#fb9f3a"
             ],
             [
              0.8888888888888888,
              "#fdca26"
             ],
             [
              1,
              "#f0f921"
             ]
            ],
            "type": "surface"
           }
          ],
          "table": [
           {
            "cells": {
             "fill": {
              "color": "#EBF0F8"
             },
             "line": {
              "color": "white"
             }
            },
            "header": {
             "fill": {
              "color": "#C8D4E3"
             },
             "line": {
              "color": "white"
             }
            },
            "type": "table"
           }
          ]
         },
         "layout": {
          "annotationdefaults": {
           "arrowcolor": "#2a3f5f",
           "arrowhead": 0,
           "arrowwidth": 1
          },
          "autotypenumbers": "strict",
          "coloraxis": {
           "colorbar": {
            "outlinewidth": 0,
            "ticks": ""
           }
          },
          "colorscale": {
           "diverging": [
            [
             0,
             "#8e0152"
            ],
            [
             0.1,
             "#c51b7d"
            ],
            [
             0.2,
             "#de77ae"
            ],
            [
             0.3,
             "#f1b6da"
            ],
            [
             0.4,
             "#fde0ef"
            ],
            [
             0.5,
             "#f7f7f7"
            ],
            [
             0.6,
             "#e6f5d0"
            ],
            [
             0.7,
             "#b8e186"
            ],
            [
             0.8,
             "#7fbc41"
            ],
            [
             0.9,
             "#4d9221"
            ],
            [
             1,
             "#276419"
            ]
           ],
           "sequential": [
            [
             0,
             "#0d0887"
            ],
            [
             0.1111111111111111,
             "#46039f"
            ],
            [
             0.2222222222222222,
             "#7201a8"
            ],
            [
             0.3333333333333333,
             "#9c179e"
            ],
            [
             0.4444444444444444,
             "#bd3786"
            ],
            [
             0.5555555555555556,
             "#d8576b"
            ],
            [
             0.6666666666666666,
             "#ed7953"
            ],
            [
             0.7777777777777778,
             "#fb9f3a"
            ],
            [
             0.8888888888888888,
             "#fdca26"
            ],
            [
             1,
             "#f0f921"
            ]
           ],
           "sequentialminus": [
            [
             0,
             "#0d0887"
            ],
            [
             0.1111111111111111,
             "#46039f"
            ],
            [
             0.2222222222222222,
             "#7201a8"
            ],
            [
             0.3333333333333333,
             "#9c179e"
            ],
            [
             0.4444444444444444,
             "#bd3786"
            ],
            [
             0.5555555555555556,
             "#d8576b"
            ],
            [
             0.6666666666666666,
             "#ed7953"
            ],
            [
             0.7777777777777778,
             "#fb9f3a"
            ],
            [
             0.8888888888888888,
             "#fdca26"
            ],
            [
             1,
             "#f0f921"
            ]
           ]
          },
          "colorway": [
           "#636efa",
           "#EF553B",
           "#00cc96",
           "#ab63fa",
           "#FFA15A",
           "#19d3f3",
           "#FF6692",
           "#B6E880",
           "#FF97FF",
           "#FECB52"
          ],
          "font": {
           "color": "#2a3f5f"
          },
          "geo": {
           "bgcolor": "white",
           "lakecolor": "white",
           "landcolor": "#E5ECF6",
           "showlakes": true,
           "showland": true,
           "subunitcolor": "white"
          },
          "hoverlabel": {
           "align": "left"
          },
          "hovermode": "closest",
          "mapbox": {
           "style": "light"
          },
          "paper_bgcolor": "white",
          "plot_bgcolor": "#E5ECF6",
          "polar": {
           "angularaxis": {
            "gridcolor": "white",
            "linecolor": "white",
            "ticks": ""
           },
           "bgcolor": "#E5ECF6",
           "radialaxis": {
            "gridcolor": "white",
            "linecolor": "white",
            "ticks": ""
           }
          },
          "scene": {
           "xaxis": {
            "backgroundcolor": "#E5ECF6",
            "gridcolor": "white",
            "gridwidth": 2,
            "linecolor": "white",
            "showbackground": true,
            "ticks": "",
            "zerolinecolor": "white"
           },
           "yaxis": {
            "backgroundcolor": "#E5ECF6",
            "gridcolor": "white",
            "gridwidth": 2,
            "linecolor": "white",
            "showbackground": true,
            "ticks": "",
            "zerolinecolor": "white"
           },
           "zaxis": {
            "backgroundcolor": "#E5ECF6",
            "gridcolor": "white",
            "gridwidth": 2,
            "linecolor": "white",
            "showbackground": true,
            "ticks": "",
            "zerolinecolor": "white"
           }
          },
          "shapedefaults": {
           "line": {
            "color": "#2a3f5f"
           }
          },
          "ternary": {
           "aaxis": {
            "gridcolor": "white",
            "linecolor": "white",
            "ticks": ""
           },
           "baxis": {
            "gridcolor": "white",
            "linecolor": "white",
            "ticks": ""
           },
           "bgcolor": "#E5ECF6",
           "caxis": {
            "gridcolor": "white",
            "linecolor": "white",
            "ticks": ""
           }
          },
          "title": {
           "x": 0.05
          },
          "xaxis": {
           "automargin": true,
           "gridcolor": "white",
           "linecolor": "white",
           "ticks": "",
           "title": {
            "standoff": 15
           },
           "zerolinecolor": "white",
           "zerolinewidth": 2
          },
          "yaxis": {
           "automargin": true,
           "gridcolor": "white",
           "linecolor": "white",
           "ticks": "",
           "title": {
            "standoff": 15
           },
           "zerolinecolor": "white",
           "zerolinewidth": 2
          }
         }
        },
        "title": {
         "text": "t-SNE of Energy Sources Profiles in 2016"
        }
       }
      }
     },
     "metadata": {},
     "output_type": "display_data"
    }
   ],
   "source": [
    "# Use t-SNE to reduce dimensionality to 3D\n",
    "tsne = TSNE(n_components=3, random_state=42)\n",
    "reduced_data_tsne = tsne.fit_transform(data_2016)\n",
    "\n",
    "# Create a dataframe with the reduced data\n",
    "reduced_df_tsne = pd.DataFrame(reduced_data_tsne, columns=[\"x\", \"y\", \"z\"])\n",
    "reduced_df_tsne.index = data_2016.index\n",
    "\n",
    "# Add the distance column to the dataframe and sort\n",
    "reduced_df_tsne[\"DISTANCE_TO_IA\"] = reduced_df_tsne.index.map(lambda x: distances[x])\n",
    "reduced_df_tsne.sort_values(\"DISTANCE_TO_IA\", inplace=True)\n",
    "\n",
    "# Closer to IA -> Yellow, Farther from IA -> Red, IA itself -> Green\n",
    "color_scale = [(0, \"green\"), (0.1, \"yellow\"), (.5, \"orange\"), (1, \"red\")]\n",
    "\n",
    "# Create interactive plotly scatter plot\n",
    "fig = px.scatter_3d(\n",
    "    reduced_df_tsne,\n",
    "    x=\"x\",\n",
    "    y=\"y\",\n",
    "    z=\"z\",\n",
    "    text=reduced_df_tsne.index,\n",
    "    hover_name=reduced_df_tsne.index,\n",
    "    color=\"DISTANCE_TO_IA\",\n",
    "    color_continuous_scale=color_scale,\n",
    "    opacity=0.8,\n",
    "    labels={\n",
    "        \"x\": \"t-SNE 1\",\n",
    "        \"y\": \"t-SNE 2\",\n",
    "        \"z\": \"t-SNE 3\",\n",
    "        \"DISTANCE_TO_IA\": \"Energy Profile Distance to IA\",\n",
    "    },\n",
    "    title=\"t-SNE of Energy Sources Profiles in 2016\",\n",
    ")\n",
    "\n",
    "fig.update_traces(marker=dict(size=3), textfont=dict(size=5))\n",
    "fig.show()"
   ]
  }
 ],
 "metadata": {
  "kernelspec": {
   "display_name": "HonorsThesis",
   "language": "python",
   "name": "python3"
  },
  "language_info": {
   "codemirror_mode": {
    "name": "ipython",
    "version": 3
   },
   "file_extension": ".py",
   "mimetype": "text/x-python",
   "name": "python",
   "nbconvert_exporter": "python",
   "pygments_lexer": "ipython3",
   "version": "3.11.4"
  },
  "orig_nbformat": 4
 },
 "nbformat": 4,
 "nbformat_minor": 2
}
