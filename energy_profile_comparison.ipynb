{
 "cells": [
  {
   "cell_type": "code",
   "execution_count": 13,
   "metadata": {},
   "outputs": [],
   "source": [
    "import pandas as pd\n",
    "from scipy.spatial import distance\n",
    "from sklearn.manifold import TSNE\n",
    "import plotly.express as px\n",
    "pd.set_option('display.float_format', lambda x: '%.10f' % x)"
   ]
  },
  {
   "cell_type": "markdown",
   "metadata": {},
   "source": [
    "## Clean data for energy profile comparison"
   ]
  },
  {
   "cell_type": "code",
   "execution_count": 14,
   "metadata": {},
   "outputs": [],
   "source": [
    "# Import data and rename columns for better readability\n",
    "data = pd.read_csv('Data/annual_generation_state.csv', thousands=',')\n",
    "data.rename(columns={'TYPE OF PRODUCER': 'PRODUCER', 'ENERGY SOURCE': 'SOURCE', 'GENERATION (Megawatthours)': 'MWH'}, inplace=True)\n",
    "\n",
    "# Change all strings to upper for consistency (state column has 'US-Total' and 'US-TOTAL')\n",
    "data['STATE'] = data['STATE'].str.upper()\n",
    "data['PRODUCER'] = data['PRODUCER'].str.upper()\n",
    "data['SOURCE'] = data['SOURCE'].str.upper()\n",
    "\n",
    "# Filter data for 2016 and only include 'Total Electric Power Industry'\n",
    "data_2016 = data[(data['YEAR'] == 2016) & (data['PRODUCER'] == 'TOTAL ELECTRIC POWER INDUSTRY')]\n",
    "\n",
    "# Group and pivot the data to have energy sources as columns\n",
    "data_2016 = data_2016.groupby(['STATE', 'SOURCE'])['MWH'].sum().unstack('SOURCE', fill_value=0)\n",
    "\n",
    "# Convert to percentages for normalization (multiplied by 100 for readability)\n",
    "for col in data_2016:\n",
    "    if col != 'TOTAL':\n",
    "        data_2016[col] = data_2016[col] / data_2016['TOTAL'] * 100\n",
    "\n",
    "# Change name of 'total' column to 'total (mwh)' for readability\n",
    "data_2016.rename(columns={'TOTAL': 'TOTAL (MWH)'}, inplace=True)\n",
    "cols = list(data_2016.columns)\n",
    "cols.append(cols.pop(cols.index('TOTAL (MWH)')))\n",
    "data_2016 = data_2016[cols]"
   ]
  },
  {
   "cell_type": "markdown",
   "metadata": {},
   "source": [
    "## Calculate the Euclidean distance between the energy profiles to find those nearest to Iowa's\n",
    "> Calculating only using percentage of total energy from each of the 13 sources (not adding the total mwh produced as an extra dimension)"
   ]
  },
  {
   "cell_type": "code",
   "execution_count": 15,
   "metadata": {},
   "outputs": [
    {
     "name": "stdout",
     "output_type": "stream",
     "text": [
      "Top 10 states with similar energy profiles to Iowa:\n",
      "State: IA, Distance: 0.0\n",
      "\n",
      "State: KS, Distance: 11.710686142757355\n",
      "\n",
      "State: MN, Distance: 27.808705734674408\n",
      "\n",
      "State: CO, Distance: 29.293183070381758\n",
      "\n",
      "State: ND, Distance: 29.974189578520956\n",
      "\n",
      "State: NE, Distance: 34.526524189715445\n",
      "\n",
      "State: NM, Distance: 38.21544942264555\n",
      "\n",
      "State: WI, Distance: 40.19425258545462\n",
      "\n",
      "State: OH, Distance: 42.65703391629518\n",
      "\n",
      "State: IN, Distance: 43.99489450834566\n",
      "\n"
     ]
    }
   ],
   "source": [
    "\n",
    "# Create dataframe without the total column for euclidean distance calculation \n",
    "data_2016_totdrop = data_2016.drop(columns=['TOTAL (MWH)'])\n",
    "\n",
    "# Compute the Euclidean distance between each state with reference to Iowa\n",
    "distances = {}\n",
    "for state, row in data_2016_totdrop.iterrows():\n",
    "    distances[state] = distance.euclidean(data_2016_totdrop.loc['IA'], row)\n",
    "\n",
    "# Sort the states by distance from Iowa\n",
    "sorted_states = sorted(distances.items(), key=lambda x: x[1])\n",
    "\n",
    "# Print the top 10 states with similar energy profiles to Iowa\n",
    "print('Top 10 states with similar energy profiles to Iowa:')\n",
    "for i in range(10):\n",
    "    e_profile = data_2016.loc[sorted_states[i][0]]\n",
    "    print(f'State: {sorted_states[i][0]}, Distance: {sorted_states[i][1]}\\n')"
   ]
  },
  {
   "cell_type": "markdown",
   "metadata": {},
   "source": [
    "## Calculate the Euclidean distance between the energy profiles to find those nearest to Iowa's\n",
    "> Calculating using the total mwh produced as an extra dimension"
   ]
  },
  {
   "cell_type": "code",
   "execution_count": 16,
   "metadata": {},
   "outputs": [
    {
     "name": "stdout",
     "output_type": "stream",
     "text": [
      "Top 10 states with similar energy profiles to Iowa:\n",
      "State: IA, Distance: 0.0\n",
      "\n",
      "State: CO, Distance: 25973.0165188908\n",
      "\n",
      "State: MN, Distance: 5086246.00007602\n",
      "\n",
      "State: OR, Distance: 5789506.000524245\n",
      "\n",
      "State: AR, Distance: 6052552.000183591\n",
      "\n",
      "State: KS, Distance: 6792516.000010095\n",
      "\n",
      "State: WY, Distance: 7735877.0001553325\n",
      "\n",
      "State: MS, Distance: 8488788.000489555\n",
      "\n",
      "State: WI, Distance: 10574104.000076393\n",
      "\n",
      "State: NV, Distance: 14605502.000263866\n",
      "\n"
     ]
    }
   ],
   "source": [
    "# Compute the Euclidean distance between each state with reference to Iowa\n",
    "distances = {}\n",
    "for state, row in data_2016.iterrows():\n",
    "    distances[state] = distance.euclidean(data_2016.loc['IA'], row)\n",
    "\n",
    "# Sort the states by distance from Iowa\n",
    "sorted_states = sorted(distances.items(), key=lambda x: x[1])\n",
    "\n",
    "# Print the top 10 states with similar energy profiles to Iowa\n",
    "print('Top 10 states with similar energy profiles to Iowa:')\n",
    "for i in range(10):\n",
    "    e_profile = data_2016.loc[sorted_states[i][0]]\n",
    "    print(f'State: {sorted_states[i][0]}, Distance: {sorted_states[i][1]}\\n')"
   ]
  },
  {
   "cell_type": "markdown",
   "metadata": {},
   "source": [
    "## Visualize the Euclidean distances using t-SNE to reduce dimensionality\n",
    "> Without total mwh produced as an extra dimension"
   ]
  },
  {
   "cell_type": "code",
   "execution_count": 17,
   "metadata": {},
   "outputs": [
    {
     "data": {
      "application/vnd.plotly.v1+json": {
       "config": {
        "plotlyServerURL": "https://plot.ly"
       },
       "data": [
        {
         "hovertemplate": "<b>%{hovertext}</b><br><br>t-SNE 1=%{x}<br>t-SNE 2=%{y}<br>t-SNE 3=%{z}<br>State=%{text}<extra></extra>",
         "hovertext": [
          "AK",
          "AL",
          "AR",
          "AZ",
          "CA",
          "CO",
          "CT",
          "DC",
          "DE",
          "FL",
          "GA",
          "HI",
          "IA",
          "ID",
          "IL",
          "IN",
          "KS",
          "KY",
          "LA",
          "MA",
          "MD",
          "ME",
          "MI",
          "MN",
          "MO",
          "MS",
          "MT",
          "NC",
          "ND",
          "NE",
          "NH",
          "NJ",
          "NM",
          "NV",
          "NY",
          "OH",
          "OK",
          "OR",
          "PA",
          "RI",
          "SC",
          "SD",
          "TN",
          "TX",
          "US-TOTAL",
          "UT",
          "VA",
          "VT",
          "WA",
          "WI",
          "WV",
          "WY"
         ],
         "legendgroup": "",
         "marker": {
          "color": "#636efa",
          "opacity": 0.8,
          "size": 3,
          "symbol": "circle"
         },
         "mode": "markers+text",
         "name": "",
         "scene": "scene",
         "showlegend": false,
         "text": [
          "AK",
          "AL",
          "AR",
          "AZ",
          "CA",
          "CO",
          "CT",
          "DC",
          "DE",
          "FL",
          "GA",
          "HI",
          "IA",
          "ID",
          "IL",
          "IN",
          "KS",
          "KY",
          "LA",
          "MA",
          "MD",
          "ME",
          "MI",
          "MN",
          "MO",
          "MS",
          "MT",
          "NC",
          "ND",
          "NE",
          "NH",
          "NJ",
          "NM",
          "NV",
          "NY",
          "OH",
          "OK",
          "OR",
          "PA",
          "RI",
          "SC",
          "SD",
          "TN",
          "TX",
          "US-TOTAL",
          "UT",
          "VA",
          "VT",
          "WA",
          "WI",
          "WV",
          "WY"
         ],
         "textfont": {
          "size": 5
         },
         "type": "scatter3d",
         "x": [
          76.02661895751953,
          -2.705134391784668,
          -94.42635345458984,
          -78.06580352783203,
          64.58300018310547,
          -42.57341384887695,
          -16.19158363342285,
          125.26005554199219,
          126.59335327148438,
          55.41006088256836,
          -30.644880294799805,
          -40.89695358276367,
          38.898582458496094,
          -10.920634269714355,
          -15.250947952270508,
          -54.292301177978516,
          22.760351181030273,
          35.337581634521484,
          -80.14854431152344,
          23.283342361450195,
          -5.416701793670654,
          -58.146331787109375,
          7.803539752960205,
          -59.109886169433594,
          -8.17514705657959,
          82.79702758789062,
          -76.79736328125,
          16.387781143188477,
          44.20514678955078,
          39.48468017578125,
          -20.71701431274414,
          22.579496383666992,
          -75.97769165039062,
          91.48558044433594,
          37.063209533691406,
          -24.37012481689453,
          81.35099792480469,
          -44.4018440246582,
          -37.51683807373047,
          138.72579956054688,
          -65.50909423828125,
          100.04390716552734,
          -38.42537307739258,
          84.9928970336914,
          17.53297233581543,
          -34.16954803466797,
          13.528554916381836,
          -95.21025848388672,
          11.677860260009766,
          18.64552879333496,
          -97.6418228149414,
          -113.36819458007812
         ],
         "y": [
          51.7254753112793,
          55.79780960083008,
          1.536287546157837,
          -14.342281341552734,
          -70.07683563232422,
          18.91054916381836,
          -44.44666290283203,
          -79.99894714355469,
          -30.71996307373047,
          9.818902969360352,
          15.186767578125,
          -164.26829528808594,
          94.38316345214844,
          -103.33638000488281,
          23.337560653686523,
          119.19400787353516,
          121.97767639160156,
          33.95441436767578,
          11.339956283569336,
          -96.55797576904297,
          66.82505798339844,
          -79.14910888671875,
          -116.42362976074219,
          46.577850341796875,
          113.50758361816406,
          -63.341957092285156,
          79.61914825439453,
          14.653603553771973,
          93.02444458007812,
          21.728158950805664,
          -14.309203147888184,
          -56.01625442504883,
          36.58624267578125,
          15.455617904663086,
          -21.063461303710938,
          63.064151763916016,
          -10.88865852355957,
          -104.26689910888672,
          -19.761089324951172,
          13.329381942749023,
          -58.06388473510742,
          58.87400436401367,
          87.60447692871094,
          -39.583438873291016,
          38.87687301635742,
          -22.518688201904297,
          -40.08678436279297,
          -83.61226654052734,
          -106.53736877441406,
          -34.730369567871094,
          -29.356592178344727,
          80.31121826171875
         ],
         "z": [
          -7.351991176605225,
          89.27461242675781,
          26.571752548217773,
          -27.035253524780273,
          -0.38803088665008545,
          129.0763397216797,
          -44.904422760009766,
          17.696992874145508,
          -45.55305099487305,
          48.964385986328125,
          -33.54912567138672,
          28.361207962036133,
          58.361873626708984,
          31.018474578857422,
          45.86314010620117,
          -5.615302085876465,
          11.275275230407715,
          -115.44168853759766,
          -86.12532806396484,
          87.46636199951172,
          5.540657043457031,
          48.362789154052734,
          -74.60872650146484,
          11.478143692016602,
          -49.722633361816406,
          -64.62540435791016,
          -53.29365158081055,
          2.0223894119262695,
          -78.22010803222656,
          115.07882690429688,
          -98.47232055664062,
          -89.76744842529297,
          79.46612548828125,
          -59.401573181152344,
          -45.71235656738281,
          -87.90835571289062,
          5.204803943634033,
          -17.07967185974121,
          14.551552772521973,
          -7.147406578063965,
          -80.20185089111328,
          61.50327682495117,
          51.58505630493164,
          55.967185974121094,
          -46.39192199707031,
          90.48764038085938,
          6.7574782371521,
          -0.34132710099220276,
          -14.958488464355469,
          73.39053344726562,
          92.68115997314453,
          6.429840087890625
         ]
        }
       ],
       "layout": {
        "legend": {
         "tracegroupgap": 0
        },
        "scene": {
         "domain": {
          "x": [
           0,
           1
          ],
          "y": [
           0,
           1
          ]
         },
         "xaxis": {
          "title": {
           "text": "t-SNE 1"
          }
         },
         "yaxis": {
          "title": {
           "text": "t-SNE 2"
          }
         },
         "zaxis": {
          "title": {
           "text": "t-SNE 3"
          }
         }
        },
        "template": {
         "data": {
          "bar": [
           {
            "error_x": {
             "color": "#2a3f5f"
            },
            "error_y": {
             "color": "#2a3f5f"
            },
            "marker": {
             "line": {
              "color": "#E5ECF6",
              "width": 0.5
             },
             "pattern": {
              "fillmode": "overlay",
              "size": 10,
              "solidity": 0.2
             }
            },
            "type": "bar"
           }
          ],
          "barpolar": [
           {
            "marker": {
             "line": {
              "color": "#E5ECF6",
              "width": 0.5
             },
             "pattern": {
              "fillmode": "overlay",
              "size": 10,
              "solidity": 0.2
             }
            },
            "type": "barpolar"
           }
          ],
          "carpet": [
           {
            "aaxis": {
             "endlinecolor": "#2a3f5f",
             "gridcolor": "white",
             "linecolor": "white",
             "minorgridcolor": "white",
             "startlinecolor": "#2a3f5f"
            },
            "baxis": {
             "endlinecolor": "#2a3f5f",
             "gridcolor": "white",
             "linecolor": "white",
             "minorgridcolor": "white",
             "startlinecolor": "#2a3f5f"
            },
            "type": "carpet"
           }
          ],
          "choropleth": [
           {
            "colorbar": {
             "outlinewidth": 0,
             "ticks": ""
            },
            "type": "choropleth"
           }
          ],
          "contour": [
           {
            "colorbar": {
             "outlinewidth": 0,
             "ticks": ""
            },
            "colorscale": [
             [
              0,
              "#0d0887"
             ],
             [
              0.1111111111111111,
              "#46039f"
             ],
             [
              0.2222222222222222,
              "#7201a8"
             ],
             [
              0.3333333333333333,
              "#9c179e"
             ],
             [
              0.4444444444444444,
              "#bd3786"
             ],
             [
              0.5555555555555556,
              "#d8576b"
             ],
             [
              0.6666666666666666,
              "#ed7953"
             ],
             [
              0.7777777777777778,
              "#fb9f3a"
             ],
             [
              0.8888888888888888,
              "#fdca26"
             ],
             [
              1,
              "#f0f921"
             ]
            ],
            "type": "contour"
           }
          ],
          "contourcarpet": [
           {
            "colorbar": {
             "outlinewidth": 0,
             "ticks": ""
            },
            "type": "contourcarpet"
           }
          ],
          "heatmap": [
           {
            "colorbar": {
             "outlinewidth": 0,
             "ticks": ""
            },
            "colorscale": [
             [
              0,
              "#0d0887"
             ],
             [
              0.1111111111111111,
              "#46039f"
             ],
             [
              0.2222222222222222,
              "#7201a8"
             ],
             [
              0.3333333333333333,
              "#9c179e"
             ],
             [
              0.4444444444444444,
              "#bd3786"
             ],
             [
              0.5555555555555556,
              "#d8576b"
             ],
             [
              0.6666666666666666,
              "#ed7953"
             ],
             [
              0.7777777777777778,
              "#fb9f3a"
             ],
             [
              0.8888888888888888,
              "#fdca26"
             ],
             [
              1,
              "#f0f921"
             ]
            ],
            "type": "heatmap"
           }
          ],
          "heatmapgl": [
           {
            "colorbar": {
             "outlinewidth": 0,
             "ticks": ""
            },
            "colorscale": [
             [
              0,
              "#0d0887"
             ],
             [
              0.1111111111111111,
              "#46039f"
             ],
             [
              0.2222222222222222,
              "#7201a8"
             ],
             [
              0.3333333333333333,
              "#9c179e"
             ],
             [
              0.4444444444444444,
              "#bd3786"
             ],
             [
              0.5555555555555556,
              "#d8576b"
             ],
             [
              0.6666666666666666,
              "#ed7953"
             ],
             [
              0.7777777777777778,
              "#fb9f3a"
             ],
             [
              0.8888888888888888,
              "#fdca26"
             ],
             [
              1,
              "#f0f921"
             ]
            ],
            "type": "heatmapgl"
           }
          ],
          "histogram": [
           {
            "marker": {
             "pattern": {
              "fillmode": "overlay",
              "size": 10,
              "solidity": 0.2
             }
            },
            "type": "histogram"
           }
          ],
          "histogram2d": [
           {
            "colorbar": {
             "outlinewidth": 0,
             "ticks": ""
            },
            "colorscale": [
             [
              0,
              "#0d0887"
             ],
             [
              0.1111111111111111,
              "#46039f"
             ],
             [
              0.2222222222222222,
              "#7201a8"
             ],
             [
              0.3333333333333333,
              "#9c179e"
             ],
             [
              0.4444444444444444,
              "#bd3786"
             ],
             [
              0.5555555555555556,
              "#d8576b"
             ],
             [
              0.6666666666666666,
              "#ed7953"
             ],
             [
              0.7777777777777778,
              "#fb9f3a"
             ],
             [
              0.8888888888888888,
              "#fdca26"
             ],
             [
              1,
              "#f0f921"
             ]
            ],
            "type": "histogram2d"
           }
          ],
          "histogram2dcontour": [
           {
            "colorbar": {
             "outlinewidth": 0,
             "ticks": ""
            },
            "colorscale": [
             [
              0,
              "#0d0887"
             ],
             [
              0.1111111111111111,
              "#46039f"
             ],
             [
              0.2222222222222222,
              "#7201a8"
             ],
             [
              0.3333333333333333,
              "#9c179e"
             ],
             [
              0.4444444444444444,
              "#bd3786"
             ],
             [
              0.5555555555555556,
              "#d8576b"
             ],
             [
              0.6666666666666666,
              "#ed7953"
             ],
             [
              0.7777777777777778,
              "#fb9f3a"
             ],
             [
              0.8888888888888888,
              "#fdca26"
             ],
             [
              1,
              "#f0f921"
             ]
            ],
            "type": "histogram2dcontour"
           }
          ],
          "mesh3d": [
           {
            "colorbar": {
             "outlinewidth": 0,
             "ticks": ""
            },
            "type": "mesh3d"
           }
          ],
          "parcoords": [
           {
            "line": {
             "colorbar": {
              "outlinewidth": 0,
              "ticks": ""
             }
            },
            "type": "parcoords"
           }
          ],
          "pie": [
           {
            "automargin": true,
            "type": "pie"
           }
          ],
          "scatter": [
           {
            "fillpattern": {
             "fillmode": "overlay",
             "size": 10,
             "solidity": 0.2
            },
            "type": "scatter"
           }
          ],
          "scatter3d": [
           {
            "line": {
             "colorbar": {
              "outlinewidth": 0,
              "ticks": ""
             }
            },
            "marker": {
             "colorbar": {
              "outlinewidth": 0,
              "ticks": ""
             }
            },
            "type": "scatter3d"
           }
          ],
          "scattercarpet": [
           {
            "marker": {
             "colorbar": {
              "outlinewidth": 0,
              "ticks": ""
             }
            },
            "type": "scattercarpet"
           }
          ],
          "scattergeo": [
           {
            "marker": {
             "colorbar": {
              "outlinewidth": 0,
              "ticks": ""
             }
            },
            "type": "scattergeo"
           }
          ],
          "scattergl": [
           {
            "marker": {
             "colorbar": {
              "outlinewidth": 0,
              "ticks": ""
             }
            },
            "type": "scattergl"
           }
          ],
          "scattermapbox": [
           {
            "marker": {
             "colorbar": {
              "outlinewidth": 0,
              "ticks": ""
             }
            },
            "type": "scattermapbox"
           }
          ],
          "scatterpolar": [
           {
            "marker": {
             "colorbar": {
              "outlinewidth": 0,
              "ticks": ""
             }
            },
            "type": "scatterpolar"
           }
          ],
          "scatterpolargl": [
           {
            "marker": {
             "colorbar": {
              "outlinewidth": 0,
              "ticks": ""
             }
            },
            "type": "scatterpolargl"
           }
          ],
          "scatterternary": [
           {
            "marker": {
             "colorbar": {
              "outlinewidth": 0,
              "ticks": ""
             }
            },
            "type": "scatterternary"
           }
          ],
          "surface": [
           {
            "colorbar": {
             "outlinewidth": 0,
             "ticks": ""
            },
            "colorscale": [
             [
              0,
              "#0d0887"
             ],
             [
              0.1111111111111111,
              "#46039f"
             ],
             [
              0.2222222222222222,
              "#7201a8"
             ],
             [
              0.3333333333333333,
              "#9c179e"
             ],
             [
              0.4444444444444444,
              "#bd3786"
             ],
             [
              0.5555555555555556,
              "#d8576b"
             ],
             [
              0.6666666666666666,
              "#ed7953"
             ],
             [
              0.7777777777777778,
              "#fb9f3a"
             ],
             [
              0.8888888888888888,
              "#fdca26"
             ],
             [
              1,
              "#f0f921"
             ]
            ],
            "type": "surface"
           }
          ],
          "table": [
           {
            "cells": {
             "fill": {
              "color": "#EBF0F8"
             },
             "line": {
              "color": "white"
             }
            },
            "header": {
             "fill": {
              "color": "#C8D4E3"
             },
             "line": {
              "color": "white"
             }
            },
            "type": "table"
           }
          ]
         },
         "layout": {
          "annotationdefaults": {
           "arrowcolor": "#2a3f5f",
           "arrowhead": 0,
           "arrowwidth": 1
          },
          "autotypenumbers": "strict",
          "coloraxis": {
           "colorbar": {
            "outlinewidth": 0,
            "ticks": ""
           }
          },
          "colorscale": {
           "diverging": [
            [
             0,
             "#8e0152"
            ],
            [
             0.1,
             "#c51b7d"
            ],
            [
             0.2,
             "#de77ae"
            ],
            [
             0.3,
             "#f1b6da"
            ],
            [
             0.4,
             "#fde0ef"
            ],
            [
             0.5,
             "#f7f7f7"
            ],
            [
             0.6,
             "#e6f5d0"
            ],
            [
             0.7,
             "#b8e186"
            ],
            [
             0.8,
             "#7fbc41"
            ],
            [
             0.9,
             "#4d9221"
            ],
            [
             1,
             "#276419"
            ]
           ],
           "sequential": [
            [
             0,
             "#0d0887"
            ],
            [
             0.1111111111111111,
             "#46039f"
            ],
            [
             0.2222222222222222,
             "#7201a8"
            ],
            [
             0.3333333333333333,
             "#9c179e"
            ],
            [
             0.4444444444444444,
             "#bd3786"
            ],
            [
             0.5555555555555556,
             "#d8576b"
            ],
            [
             0.6666666666666666,
             "#ed7953"
            ],
            [
             0.7777777777777778,
             "#fb9f3a"
            ],
            [
             0.8888888888888888,
             "#fdca26"
            ],
            [
             1,
             "#f0f921"
            ]
           ],
           "sequentialminus": [
            [
             0,
             "#0d0887"
            ],
            [
             0.1111111111111111,
             "#46039f"
            ],
            [
             0.2222222222222222,
             "#7201a8"
            ],
            [
             0.3333333333333333,
             "#9c179e"
            ],
            [
             0.4444444444444444,
             "#bd3786"
            ],
            [
             0.5555555555555556,
             "#d8576b"
            ],
            [
             0.6666666666666666,
             "#ed7953"
            ],
            [
             0.7777777777777778,
             "#fb9f3a"
            ],
            [
             0.8888888888888888,
             "#fdca26"
            ],
            [
             1,
             "#f0f921"
            ]
           ]
          },
          "colorway": [
           "#636efa",
           "#EF553B",
           "#00cc96",
           "#ab63fa",
           "#FFA15A",
           "#19d3f3",
           "#FF6692",
           "#B6E880",
           "#FF97FF",
           "#FECB52"
          ],
          "font": {
           "color": "#2a3f5f"
          },
          "geo": {
           "bgcolor": "white",
           "lakecolor": "white",
           "landcolor": "#E5ECF6",
           "showlakes": true,
           "showland": true,
           "subunitcolor": "white"
          },
          "hoverlabel": {
           "align": "left"
          },
          "hovermode": "closest",
          "mapbox": {
           "style": "light"
          },
          "paper_bgcolor": "white",
          "plot_bgcolor": "#E5ECF6",
          "polar": {
           "angularaxis": {
            "gridcolor": "white",
            "linecolor": "white",
            "ticks": ""
           },
           "bgcolor": "#E5ECF6",
           "radialaxis": {
            "gridcolor": "white",
            "linecolor": "white",
            "ticks": ""
           }
          },
          "scene": {
           "xaxis": {
            "backgroundcolor": "#E5ECF6",
            "gridcolor": "white",
            "gridwidth": 2,
            "linecolor": "white",
            "showbackground": true,
            "ticks": "",
            "zerolinecolor": "white"
           },
           "yaxis": {
            "backgroundcolor": "#E5ECF6",
            "gridcolor": "white",
            "gridwidth": 2,
            "linecolor": "white",
            "showbackground": true,
            "ticks": "",
            "zerolinecolor": "white"
           },
           "zaxis": {
            "backgroundcolor": "#E5ECF6",
            "gridcolor": "white",
            "gridwidth": 2,
            "linecolor": "white",
            "showbackground": true,
            "ticks": "",
            "zerolinecolor": "white"
           }
          },
          "shapedefaults": {
           "line": {
            "color": "#2a3f5f"
           }
          },
          "ternary": {
           "aaxis": {
            "gridcolor": "white",
            "linecolor": "white",
            "ticks": ""
           },
           "baxis": {
            "gridcolor": "white",
            "linecolor": "white",
            "ticks": ""
           },
           "bgcolor": "#E5ECF6",
           "caxis": {
            "gridcolor": "white",
            "linecolor": "white",
            "ticks": ""
           }
          },
          "title": {
           "x": 0.05
          },
          "xaxis": {
           "automargin": true,
           "gridcolor": "white",
           "linecolor": "white",
           "ticks": "",
           "title": {
            "standoff": 15
           },
           "zerolinecolor": "white",
           "zerolinewidth": 2
          },
          "yaxis": {
           "automargin": true,
           "gridcolor": "white",
           "linecolor": "white",
           "ticks": "",
           "title": {
            "standoff": 15
           },
           "zerolinecolor": "white",
           "zerolinewidth": 2
          }
         }
        },
        "title": {
         "text": "t-SNE of Energy Sources Profiles in 2016 (Excluding Total MWH Produced)"
        }
       }
      }
     },
     "metadata": {},
     "output_type": "display_data"
    }
   ],
   "source": [
    "# Use t-SNE to reduce dimensionality to 3D\n",
    "tsne = TSNE(n_components=3, random_state=42)\n",
    "reduced_data_tsne = tsne.fit_transform(data_2016_totdrop)\n",
    "\n",
    "# Create a dataframe with the reduced data\n",
    "reduced_df_tsne = pd.DataFrame(reduced_data_tsne, columns=['x', 'y', 'z'])\n",
    "reduced_df_tsne['State'] = data_2016_totdrop.index\n",
    "\n",
    "# Create interactive plotly scatter plot\n",
    "fig = px.scatter_3d(reduced_df_tsne, x='x', y='y', z='z', text='State', hover_name='State', \n",
    "                    color_continuous_scale='viridis', opacity=0.8,\n",
    "                    labels={'x': 't-SNE 1', 'y': 't-SNE 2', 'z': 't-SNE 3', 'color': 'Coal %'},\n",
    "                 title='t-SNE of Energy Sources Profiles in 2016 (Excluding Total MWH Produced)')\n",
    "\n",
    "fig.update_traces(marker=dict(size=3), textfont=dict(size=5))\n",
    "fig.show()"
   ]
  },
  {
   "cell_type": "markdown",
   "metadata": {},
   "source": [
    "## Visualize the Euclidean distances using t-SNE to reduce dimensionality\n",
    "> With total mwh produced as an extra dimension"
   ]
  },
  {
   "cell_type": "code",
   "execution_count": 18,
   "metadata": {},
   "outputs": [
    {
     "data": {
      "application/vnd.plotly.v1+json": {
       "config": {
        "plotlyServerURL": "https://plot.ly"
       },
       "data": [
        {
         "hovertemplate": "<b>%{hovertext}</b><br><br>t-SNE 1=%{x}<br>t-SNE 2=%{y}<br>t-SNE 3=%{z}<br>State=%{text}<extra></extra>",
         "hovertext": [
          "AK",
          "AL",
          "AR",
          "AZ",
          "CA",
          "CO",
          "CT",
          "DC",
          "DE",
          "FL",
          "GA",
          "HI",
          "IA",
          "ID",
          "IL",
          "IN",
          "KS",
          "KY",
          "LA",
          "MA",
          "MD",
          "ME",
          "MI",
          "MN",
          "MO",
          "MS",
          "MT",
          "NC",
          "ND",
          "NE",
          "NH",
          "NJ",
          "NM",
          "NV",
          "NY",
          "OH",
          "OK",
          "OR",
          "PA",
          "RI",
          "SC",
          "SD",
          "TN",
          "TX",
          "US-TOTAL",
          "UT",
          "VA",
          "VT",
          "WA",
          "WI",
          "WV",
          "WY"
         ],
         "legendgroup": "",
         "marker": {
          "color": "#636efa",
          "opacity": 0.8,
          "size": 3,
          "symbol": "circle"
         },
         "mode": "markers+text",
         "name": "",
         "scene": "scene",
         "showlegend": false,
         "text": [
          "AK",
          "AL",
          "AR",
          "AZ",
          "CA",
          "CO",
          "CT",
          "DC",
          "DE",
          "FL",
          "GA",
          "HI",
          "IA",
          "ID",
          "IL",
          "IN",
          "KS",
          "KY",
          "LA",
          "MA",
          "MD",
          "ME",
          "MI",
          "MN",
          "MO",
          "MS",
          "MT",
          "NC",
          "ND",
          "NE",
          "NH",
          "NJ",
          "NM",
          "NV",
          "NY",
          "OH",
          "OK",
          "OR",
          "PA",
          "RI",
          "SC",
          "SD",
          "TN",
          "TX",
          "US-TOTAL",
          "UT",
          "VA",
          "VT",
          "WA",
          "WI",
          "WV",
          "WY"
         ],
         "textfont": {
          "size": 5
         },
         "type": "scatter3d",
         "x": [
          86.09696197509766,
          75.58271789550781,
          57.98305892944336,
          84.28016662597656,
          -55.1862678527832,
          -20.14812469482422,
          -65.70553588867188,
          67.3421859741211,
          -7.805339336395264,
          -46.77540588378906,
          -12.126948356628418,
          12.769899368286133,
          31.51985740661621,
          -1.15287184715271,
          9.026187896728516,
          84.4901123046875,
          24.988170623779297,
          10.407113075256348,
          19.881040573120117,
          24.974271774291992,
          -100.49797058105469,
          12.877095222473145,
          36.227210998535156,
          72.27306365966797,
          -71.49858093261719,
          -31.26268196105957,
          -35.09014892578125,
          30.292062759399414,
          105.51122283935547,
          -0.5410990715026855,
          80.39501953125,
          -22.017335891723633,
          -120.7135238647461,
          -108.64726257324219,
          40.897743225097656,
          -18.257068634033203,
          -91.22673797607422,
          -51.58513641357422,
          -21.71258544921875,
          -50.08341598510742,
          38.11809539794922,
          67.89168548583984,
          -69.69561004638672,
          -74.9255142211914,
          -66.06877136230469,
          -70.8880844116211,
          -20.957618713378906,
          125.38253021240234,
          34.96707534790039,
          -38.59300994873047,
          -11.8718900680542,
          16.48182487487793
         ],
         "y": [
          -85.18090057373047,
          86.37760925292969,
          58.92262649536133,
          -9.1942777633667,
          69.93548583984375,
          1.707804560661316,
          2.0200507640838623,
          69.78349304199219,
          2.1755943298339844,
          117.64006805419922,
          16.31943702697754,
          -65.79889678955078,
          21.293006896972656,
          97.45549774169922,
          -33.301300048828125,
          26.756210327148438,
          -71.08258819580078,
          83.61736297607422,
          98.95608520507812,
          -16.19276237487793,
          53.14796447753906,
          44.26652908325195,
          -13.456806182861328,
          -2.6269795894622803,
          63.8874397277832,
          -41.28837203979492,
          12.003775596618652,
          51.108543395996094,
          -59.39373016357422,
          43.92756652832031,
          -50.75288009643555,
          -35.45101547241211,
          -13.604349136352539,
          31.267677307128906,
          20.613452911376953,
          -106.96926879882812,
          -56.667327880859375,
          66.54166412353516,
          -80.95245361328125,
          -38.10012435913086,
          -46.13127899169922,
          10.037641525268555,
          -67.40605926513672,
          -45.2889404296875,
          -0.06899266690015793,
          5.009446620941162,
          54.20451354980469,
          34.4030876159668,
          -75.93970489501953,
          -99.51325225830078,
          -69.1261215209961,
          -12.172749519348145
         ],
         "z": [
          19.291635513305664,
          -48.945518493652344,
          27.591720581054688,
          -29.199209213256836,
          -89.92639923095703,
          -0.6782512068748474,
          28.81443214416504,
          93.24642944335938,
          142.10740661621094,
          -46.04199981689453,
          -86.20454406738281,
          119.99299621582031,
          -5.626528263092041,
          76.5517807006836,
          -127.46222686767578,
          -74.03447723388672,
          49.26598358154297,
          -109.62976837158203,
          -16.822175979614258,
          89.03795623779297,
          -16.559341430664062,
          105.57649993896484,
          -68.63153839111328,
          37.2147331237793,
          89.52410888671875,
          46.32503890991211,
          80.14066314697266,
          -62.965415954589844,
          -61.40251541137695,
          43.48020553588867,
          82.41324615478516,
          -45.94786071777344,
          -5.653210639953613,
          44.524452209472656,
          -119.8037338256836,
          -50.51451110839844,
          46.674781799316406,
          24.50189971923828,
          -114.39698791503906,
          114.84461212158203,
          -19.608600616455078,
          121.1412353515625,
          -13.511956214904785,
          -96.7020263671875,
          -125.70564270019531,
          -33.83964920043945,
          -32.37326431274414,
          16.271270751953125,
          -70.3765640258789,
          44.1447868347168,
          -0.9159536957740784,
          36.62833023071289
         ]
        }
       ],
       "layout": {
        "legend": {
         "tracegroupgap": 0
        },
        "scene": {
         "domain": {
          "x": [
           0,
           1
          ],
          "y": [
           0,
           1
          ]
         },
         "xaxis": {
          "title": {
           "text": "t-SNE 1"
          }
         },
         "yaxis": {
          "title": {
           "text": "t-SNE 2"
          }
         },
         "zaxis": {
          "title": {
           "text": "t-SNE 3"
          }
         }
        },
        "template": {
         "data": {
          "bar": [
           {
            "error_x": {
             "color": "#2a3f5f"
            },
            "error_y": {
             "color": "#2a3f5f"
            },
            "marker": {
             "line": {
              "color": "#E5ECF6",
              "width": 0.5
             },
             "pattern": {
              "fillmode": "overlay",
              "size": 10,
              "solidity": 0.2
             }
            },
            "type": "bar"
           }
          ],
          "barpolar": [
           {
            "marker": {
             "line": {
              "color": "#E5ECF6",
              "width": 0.5
             },
             "pattern": {
              "fillmode": "overlay",
              "size": 10,
              "solidity": 0.2
             }
            },
            "type": "barpolar"
           }
          ],
          "carpet": [
           {
            "aaxis": {
             "endlinecolor": "#2a3f5f",
             "gridcolor": "white",
             "linecolor": "white",
             "minorgridcolor": "white",
             "startlinecolor": "#2a3f5f"
            },
            "baxis": {
             "endlinecolor": "#2a3f5f",
             "gridcolor": "white",
             "linecolor": "white",
             "minorgridcolor": "white",
             "startlinecolor": "#2a3f5f"
            },
            "type": "carpet"
           }
          ],
          "choropleth": [
           {
            "colorbar": {
             "outlinewidth": 0,
             "ticks": ""
            },
            "type": "choropleth"
           }
          ],
          "contour": [
           {
            "colorbar": {
             "outlinewidth": 0,
             "ticks": ""
            },
            "colorscale": [
             [
              0,
              "#0d0887"
             ],
             [
              0.1111111111111111,
              "#46039f"
             ],
             [
              0.2222222222222222,
              "#7201a8"
             ],
             [
              0.3333333333333333,
              "#9c179e"
             ],
             [
              0.4444444444444444,
              "#bd3786"
             ],
             [
              0.5555555555555556,
              "#d8576b"
             ],
             [
              0.6666666666666666,
              "#ed7953"
             ],
             [
              0.7777777777777778,
              "#fb9f3a"
             ],
             [
              0.8888888888888888,
              "#fdca26"
             ],
             [
              1,
              "#f0f921"
             ]
            ],
            "type": "contour"
           }
          ],
          "contourcarpet": [
           {
            "colorbar": {
             "outlinewidth": 0,
             "ticks": ""
            },
            "type": "contourcarpet"
           }
          ],
          "heatmap": [
           {
            "colorbar": {
             "outlinewidth": 0,
             "ticks": ""
            },
            "colorscale": [
             [
              0,
              "#0d0887"
             ],
             [
              0.1111111111111111,
              "#46039f"
             ],
             [
              0.2222222222222222,
              "#7201a8"
             ],
             [
              0.3333333333333333,
              "#9c179e"
             ],
             [
              0.4444444444444444,
              "#bd3786"
             ],
             [
              0.5555555555555556,
              "#d8576b"
             ],
             [
              0.6666666666666666,
              "#ed7953"
             ],
             [
              0.7777777777777778,
              "#fb9f3a"
             ],
             [
              0.8888888888888888,
              "#fdca26"
             ],
             [
              1,
              "#f0f921"
             ]
            ],
            "type": "heatmap"
           }
          ],
          "heatmapgl": [
           {
            "colorbar": {
             "outlinewidth": 0,
             "ticks": ""
            },
            "colorscale": [
             [
              0,
              "#0d0887"
             ],
             [
              0.1111111111111111,
              "#46039f"
             ],
             [
              0.2222222222222222,
              "#7201a8"
             ],
             [
              0.3333333333333333,
              "#9c179e"
             ],
             [
              0.4444444444444444,
              "#bd3786"
             ],
             [
              0.5555555555555556,
              "#d8576b"
             ],
             [
              0.6666666666666666,
              "#ed7953"
             ],
             [
              0.7777777777777778,
              "#fb9f3a"
             ],
             [
              0.8888888888888888,
              "#fdca26"
             ],
             [
              1,
              "#f0f921"
             ]
            ],
            "type": "heatmapgl"
           }
          ],
          "histogram": [
           {
            "marker": {
             "pattern": {
              "fillmode": "overlay",
              "size": 10,
              "solidity": 0.2
             }
            },
            "type": "histogram"
           }
          ],
          "histogram2d": [
           {
            "colorbar": {
             "outlinewidth": 0,
             "ticks": ""
            },
            "colorscale": [
             [
              0,
              "#0d0887"
             ],
             [
              0.1111111111111111,
              "#46039f"
             ],
             [
              0.2222222222222222,
              "#7201a8"
             ],
             [
              0.3333333333333333,
              "#9c179e"
             ],
             [
              0.4444444444444444,
              "#bd3786"
             ],
             [
              0.5555555555555556,
              "#d8576b"
             ],
             [
              0.6666666666666666,
              "#ed7953"
             ],
             [
              0.7777777777777778,
              "#fb9f3a"
             ],
             [
              0.8888888888888888,
              "#fdca26"
             ],
             [
              1,
              "#f0f921"
             ]
            ],
            "type": "histogram2d"
           }
          ],
          "histogram2dcontour": [
           {
            "colorbar": {
             "outlinewidth": 0,
             "ticks": ""
            },
            "colorscale": [
             [
              0,
              "#0d0887"
             ],
             [
              0.1111111111111111,
              "#46039f"
             ],
             [
              0.2222222222222222,
              "#7201a8"
             ],
             [
              0.3333333333333333,
              "#9c179e"
             ],
             [
              0.4444444444444444,
              "#bd3786"
             ],
             [
              0.5555555555555556,
              "#d8576b"
             ],
             [
              0.6666666666666666,
              "#ed7953"
             ],
             [
              0.7777777777777778,
              "#fb9f3a"
             ],
             [
              0.8888888888888888,
              "#fdca26"
             ],
             [
              1,
              "#f0f921"
             ]
            ],
            "type": "histogram2dcontour"
           }
          ],
          "mesh3d": [
           {
            "colorbar": {
             "outlinewidth": 0,
             "ticks": ""
            },
            "type": "mesh3d"
           }
          ],
          "parcoords": [
           {
            "line": {
             "colorbar": {
              "outlinewidth": 0,
              "ticks": ""
             }
            },
            "type": "parcoords"
           }
          ],
          "pie": [
           {
            "automargin": true,
            "type": "pie"
           }
          ],
          "scatter": [
           {
            "fillpattern": {
             "fillmode": "overlay",
             "size": 10,
             "solidity": 0.2
            },
            "type": "scatter"
           }
          ],
          "scatter3d": [
           {
            "line": {
             "colorbar": {
              "outlinewidth": 0,
              "ticks": ""
             }
            },
            "marker": {
             "colorbar": {
              "outlinewidth": 0,
              "ticks": ""
             }
            },
            "type": "scatter3d"
           }
          ],
          "scattercarpet": [
           {
            "marker": {
             "colorbar": {
              "outlinewidth": 0,
              "ticks": ""
             }
            },
            "type": "scattercarpet"
           }
          ],
          "scattergeo": [
           {
            "marker": {
             "colorbar": {
              "outlinewidth": 0,
              "ticks": ""
             }
            },
            "type": "scattergeo"
           }
          ],
          "scattergl": [
           {
            "marker": {
             "colorbar": {
              "outlinewidth": 0,
              "ticks": ""
             }
            },
            "type": "scattergl"
           }
          ],
          "scattermapbox": [
           {
            "marker": {
             "colorbar": {
              "outlinewidth": 0,
              "ticks": ""
             }
            },
            "type": "scattermapbox"
           }
          ],
          "scatterpolar": [
           {
            "marker": {
             "colorbar": {
              "outlinewidth": 0,
              "ticks": ""
             }
            },
            "type": "scatterpolar"
           }
          ],
          "scatterpolargl": [
           {
            "marker": {
             "colorbar": {
              "outlinewidth": 0,
              "ticks": ""
             }
            },
            "type": "scatterpolargl"
           }
          ],
          "scatterternary": [
           {
            "marker": {
             "colorbar": {
              "outlinewidth": 0,
              "ticks": ""
             }
            },
            "type": "scatterternary"
           }
          ],
          "surface": [
           {
            "colorbar": {
             "outlinewidth": 0,
             "ticks": ""
            },
            "colorscale": [
             [
              0,
              "#0d0887"
             ],
             [
              0.1111111111111111,
              "#46039f"
             ],
             [
              0.2222222222222222,
              "#7201a8"
             ],
             [
              0.3333333333333333,
              "#9c179e"
             ],
             [
              0.4444444444444444,
              "#bd3786"
             ],
             [
              0.5555555555555556,
              "#d8576b"
             ],
             [
              0.6666666666666666,
              "#ed7953"
             ],
             [
              0.7777777777777778,
              "#fb9f3a"
             ],
             [
              0.8888888888888888,
              "#fdca26"
             ],
             [
              1,
              "#f0f921"
             ]
            ],
            "type": "surface"
           }
          ],
          "table": [
           {
            "cells": {
             "fill": {
              "color": "#EBF0F8"
             },
             "line": {
              "color": "white"
             }
            },
            "header": {
             "fill": {
              "color": "#C8D4E3"
             },
             "line": {
              "color": "white"
             }
            },
            "type": "table"
           }
          ]
         },
         "layout": {
          "annotationdefaults": {
           "arrowcolor": "#2a3f5f",
           "arrowhead": 0,
           "arrowwidth": 1
          },
          "autotypenumbers": "strict",
          "coloraxis": {
           "colorbar": {
            "outlinewidth": 0,
            "ticks": ""
           }
          },
          "colorscale": {
           "diverging": [
            [
             0,
             "#8e0152"
            ],
            [
             0.1,
             "#c51b7d"
            ],
            [
             0.2,
             "#de77ae"
            ],
            [
             0.3,
             "#f1b6da"
            ],
            [
             0.4,
             "#fde0ef"
            ],
            [
             0.5,
             "#f7f7f7"
            ],
            [
             0.6,
             "#e6f5d0"
            ],
            [
             0.7,
             "#b8e186"
            ],
            [
             0.8,
             "#7fbc41"
            ],
            [
             0.9,
             "#4d9221"
            ],
            [
             1,
             "#276419"
            ]
           ],
           "sequential": [
            [
             0,
             "#0d0887"
            ],
            [
             0.1111111111111111,
             "#46039f"
            ],
            [
             0.2222222222222222,
             "#7201a8"
            ],
            [
             0.3333333333333333,
             "#9c179e"
            ],
            [
             0.4444444444444444,
             "#bd3786"
            ],
            [
             0.5555555555555556,
             "#d8576b"
            ],
            [
             0.6666666666666666,
             "#ed7953"
            ],
            [
             0.7777777777777778,
             "#fb9f3a"
            ],
            [
             0.8888888888888888,
             "#fdca26"
            ],
            [
             1,
             "#f0f921"
            ]
           ],
           "sequentialminus": [
            [
             0,
             "#0d0887"
            ],
            [
             0.1111111111111111,
             "#46039f"
            ],
            [
             0.2222222222222222,
             "#7201a8"
            ],
            [
             0.3333333333333333,
             "#9c179e"
            ],
            [
             0.4444444444444444,
             "#bd3786"
            ],
            [
             0.5555555555555556,
             "#d8576b"
            ],
            [
             0.6666666666666666,
             "#ed7953"
            ],
            [
             0.7777777777777778,
             "#fb9f3a"
            ],
            [
             0.8888888888888888,
             "#fdca26"
            ],
            [
             1,
             "#f0f921"
            ]
           ]
          },
          "colorway": [
           "#636efa",
           "#EF553B",
           "#00cc96",
           "#ab63fa",
           "#FFA15A",
           "#19d3f3",
           "#FF6692",
           "#B6E880",
           "#FF97FF",
           "#FECB52"
          ],
          "font": {
           "color": "#2a3f5f"
          },
          "geo": {
           "bgcolor": "white",
           "lakecolor": "white",
           "landcolor": "#E5ECF6",
           "showlakes": true,
           "showland": true,
           "subunitcolor": "white"
          },
          "hoverlabel": {
           "align": "left"
          },
          "hovermode": "closest",
          "mapbox": {
           "style": "light"
          },
          "paper_bgcolor": "white",
          "plot_bgcolor": "#E5ECF6",
          "polar": {
           "angularaxis": {
            "gridcolor": "white",
            "linecolor": "white",
            "ticks": ""
           },
           "bgcolor": "#E5ECF6",
           "radialaxis": {
            "gridcolor": "white",
            "linecolor": "white",
            "ticks": ""
           }
          },
          "scene": {
           "xaxis": {
            "backgroundcolor": "#E5ECF6",
            "gridcolor": "white",
            "gridwidth": 2,
            "linecolor": "white",
            "showbackground": true,
            "ticks": "",
            "zerolinecolor": "white"
           },
           "yaxis": {
            "backgroundcolor": "#E5ECF6",
            "gridcolor": "white",
            "gridwidth": 2,
            "linecolor": "white",
            "showbackground": true,
            "ticks": "",
            "zerolinecolor": "white"
           },
           "zaxis": {
            "backgroundcolor": "#E5ECF6",
            "gridcolor": "white",
            "gridwidth": 2,
            "linecolor": "white",
            "showbackground": true,
            "ticks": "",
            "zerolinecolor": "white"
           }
          },
          "shapedefaults": {
           "line": {
            "color": "#2a3f5f"
           }
          },
          "ternary": {
           "aaxis": {
            "gridcolor": "white",
            "linecolor": "white",
            "ticks": ""
           },
           "baxis": {
            "gridcolor": "white",
            "linecolor": "white",
            "ticks": ""
           },
           "bgcolor": "#E5ECF6",
           "caxis": {
            "gridcolor": "white",
            "linecolor": "white",
            "ticks": ""
           }
          },
          "title": {
           "x": 0.05
          },
          "xaxis": {
           "automargin": true,
           "gridcolor": "white",
           "linecolor": "white",
           "ticks": "",
           "title": {
            "standoff": 15
           },
           "zerolinecolor": "white",
           "zerolinewidth": 2
          },
          "yaxis": {
           "automargin": true,
           "gridcolor": "white",
           "linecolor": "white",
           "ticks": "",
           "title": {
            "standoff": 15
           },
           "zerolinecolor": "white",
           "zerolinewidth": 2
          }
         }
        },
        "title": {
         "text": "t-SNE of Energy Sources Profiles in 2016 (Including Total MWH Produced))"
        }
       }
      }
     },
     "metadata": {},
     "output_type": "display_data"
    }
   ],
   "source": [
    "# Use t-SNE to reduce dimensionality to 3D\n",
    "tsne = TSNE(n_components=3, random_state=42)\n",
    "reduced_data_tsne = tsne.fit_transform(data_2016)\n",
    "\n",
    "# Create a dataframe with the reduced data\n",
    "reduced_df_tsne = pd.DataFrame(reduced_data_tsne, columns=['x', 'y', 'z'])\n",
    "reduced_df_tsne['State'] = data_2016.index\n",
    "\n",
    "# Create interactive plotly scatter plot\n",
    "fig = px.scatter_3d(reduced_df_tsne, x='x', y='y', z='z', text='State', hover_name='State', \n",
    "                    color_continuous_scale='viridis', opacity=0.8,\n",
    "                    labels={'x': 't-SNE 1', 'y': 't-SNE 2', 'z': 't-SNE 3', 'color': 'Coal %'},\n",
    "                 title='t-SNE of Energy Sources Profiles in 2016 (Including Total MWH Produced))')\n",
    "\n",
    "fig.update_traces(marker=dict(size=3), textfont=dict(size=5))\n",
    "fig.show()"
   ]
  }
 ],
 "metadata": {
  "kernelspec": {
   "display_name": "HonorsThesis",
   "language": "python",
   "name": "python3"
  },
  "language_info": {
   "codemirror_mode": {
    "name": "ipython",
    "version": 3
   },
   "file_extension": ".py",
   "mimetype": "text/x-python",
   "name": "python",
   "nbconvert_exporter": "python",
   "pygments_lexer": "ipython3",
   "version": "3.11.4"
  },
  "orig_nbformat": 4
 },
 "nbformat": 4,
 "nbformat_minor": 2
}
