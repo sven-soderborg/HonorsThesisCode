{
 "cells": [
  {
   "cell_type": "code",
   "execution_count": 61,
   "metadata": {},
   "outputs": [],
   "source": [
    "import pandas as pd\n",
    "from scipy.spatial import distance\n",
    "from sklearn.manifold import TSNE\n",
    "import plotly.express as px"
   ]
  },
  {
   "cell_type": "markdown",
   "metadata": {},
   "source": [
    "## Clean data for energy profile comparison"
   ]
  },
  {
   "cell_type": "code",
   "execution_count": 62,
   "metadata": {},
   "outputs": [],
   "source": [
    "# Import data and rename columns for better readability\n",
    "data = pd.read_csv('Data/annual_generation_state.csv', thousands=',')\n",
    "data.rename(columns={'TYPE OF PRODUCER': 'PRODUCER', 'ENERGY SOURCE': 'SOURCE', 'GENERATION (Megawatthours)': 'MWH'}, inplace=True)\n",
    "\n",
    "# Change all strings to upper for consistency (state column has 'US-Total' and 'US-TOTAL')\n",
    "data['STATE'] = data['STATE'].str.upper()\n",
    "data['PRODUCER'] = data['PRODUCER'].str.upper()\n",
    "data['SOURCE'] = data['SOURCE'].str.upper()\n",
    "\n",
    "# Filter data for 2016 and only include 'Total Electric Power Industry'\n",
    "data_2016 = data[(data['YEAR'] == 2016) & (data['PRODUCER'] == 'TOTAL ELECTRIC POWER INDUSTRY')]\n",
    "\n",
    "# Group and pivot the data to have energy sources as columns\n",
    "data_2016 = data_2016.groupby(['STATE', 'SOURCE'])['MWH'].sum().unstack('SOURCE', fill_value=0)\n",
    "\n",
    "# Convert to percentages for normalization (multiplied by 100 for readability)\n",
    "for col in data_2016:\n",
    "    if col != 'TOTAL':\n",
    "        data_2016[col] = data_2016[col] / data_2016['TOTAL'] * 100\n",
    "\n",
    "# Drop the total column \n",
    "# Can try keeping later to find states with similar levels of production as well\n",
    "data_2016.drop(columns=['TOTAL'], inplace=True)"
   ]
  },
  {
   "cell_type": "markdown",
   "metadata": {},
   "source": [
    "## Calculate the Euclidean distance between the energy profiles to find those nearest to Iowa"
   ]
  },
  {
   "cell_type": "code",
   "execution_count": 63,
   "metadata": {},
   "outputs": [
    {
     "name": "stdout",
     "output_type": "stream",
     "text": [
      "Top 10 states with similar energy profiles to Iowa:\n",
      "State: IA, Distance: 0.0\n",
      "State: KS, Distance: 11.710686142757355\n",
      "State: MN, Distance: 27.808705734674408\n",
      "State: CO, Distance: 29.293183070381758\n",
      "State: ND, Distance: 29.974189578520956\n",
      "State: NE, Distance: 34.526524189715445\n",
      "State: NM, Distance: 38.21544942264555\n",
      "State: WI, Distance: 40.19425258545462\n",
      "State: OH, Distance: 42.65703391629518\n",
      "State: IN, Distance: 43.99489450834566\n"
     ]
    }
   ],
   "source": [
    "# Compute the Euclidean distance between each state with reference to Iowa\n",
    "distances = {}\n",
    "for state, row in data_2016.iterrows():\n",
    "    distances[state] = distance.euclidean(data_2016.loc['IA'], row)\n",
    "\n",
    "# Sort the states by distance from Iowa\n",
    "sorted_states = sorted(distances.items(), key=lambda x: x[1])\n",
    "print('Top 10 states with similar energy profiles to Iowa:')\n",
    "for i in range(10):\n",
    "    print(f'State: {sorted_states[i][0]}, Distance: {sorted_states[i][1]}')"
   ]
  },
  {
   "cell_type": "markdown",
   "metadata": {},
   "source": [
    "## Visualize the Euclidean distances using t-SNE to reduce dimensionality"
   ]
  },
  {
   "cell_type": "code",
   "execution_count": 64,
   "metadata": {},
   "outputs": [
    {
     "data": {
      "application/vnd.plotly.v1+json": {
       "config": {
        "plotlyServerURL": "https://plot.ly"
       },
       "data": [
        {
         "hovertemplate": "<b>%{hovertext}</b><br><br>t-SNE 1=%{x}<br>t-SNE 2=%{y}<br>t-SNE 3=%{z}<br>State=%{text}<br>Coal %=%{marker.color}<extra></extra>",
         "hovertext": [
          "AK",
          "AL",
          "AR",
          "AZ",
          "CA",
          "CO",
          "CT",
          "DC",
          "DE",
          "FL",
          "GA",
          "HI",
          "IA",
          "ID",
          "IL",
          "IN",
          "KS",
          "KY",
          "LA",
          "MA",
          "MD",
          "ME",
          "MI",
          "MN",
          "MO",
          "MS",
          "MT",
          "NC",
          "ND",
          "NE",
          "NH",
          "NJ",
          "NM",
          "NV",
          "NY",
          "OH",
          "OK",
          "OR",
          "PA",
          "RI",
          "SC",
          "SD",
          "TN",
          "TX",
          "US-TOTAL",
          "UT",
          "VA",
          "VT",
          "WA",
          "WI",
          "WV",
          "WY"
         ],
         "legendgroup": "",
         "marker": {
          "color": [
           9.37862369799436,
           24.060387274516607,
           39.37471547508953,
           27.95368506565105,
           0.1618962200632235,
           55.034016018087975,
           0.48599100846764737,
           0,
           5.490043190783096,
           16.548775372000964,
           28.407824129143517,
           15.050792328154674,
           46.326871824459204,
           0.18637453261100964,
           31.68245892496559,
           71.27923618082986,
           48.52115203131026,
           83.24298450618218,
           11.19957392272221,
           5.867409510780496,
           37.2005527422985,
           0.6063957850442754,
           36.14540224518356,
           39.01609874033506,
           76.73416742405149,
           8.495413461189056,
           51.35856571711967,
           28.625188339453818,
           70.21352661364038,
           59.95289127525687,
           2.1886018576539867,
           1.693747244847513,
           55.801060067826235,
           5.446077180225051,
           1.3173696052921073,
           57.367103863429804,
           24.357055870581767,
           3.1541018742593407,
           25.42391655796296,
           0,
           21.655666907980432,
           18.072255701575052,
           39.28331905292462,
           26.70004959898576,
           30.389361774300845,
           68.02195409819834,
           17.826626443754297,
           0,
           4.033538317415802,
           51.35382696813291,
           94.16666596438527,
           85.79032390466264
          ],
          "coloraxis": "coloraxis",
          "opacity": 0.8,
          "size": 3,
          "symbol": "circle"
         },
         "mode": "markers+text",
         "name": "",
         "scene": "scene",
         "showlegend": false,
         "text": [
          "AK",
          "AL",
          "AR",
          "AZ",
          "CA",
          "CO",
          "CT",
          "DC",
          "DE",
          "FL",
          "GA",
          "HI",
          "IA",
          "ID",
          "IL",
          "IN",
          "KS",
          "KY",
          "LA",
          "MA",
          "MD",
          "ME",
          "MI",
          "MN",
          "MO",
          "MS",
          "MT",
          "NC",
          "ND",
          "NE",
          "NH",
          "NJ",
          "NM",
          "NV",
          "NY",
          "OH",
          "OK",
          "OR",
          "PA",
          "RI",
          "SC",
          "SD",
          "TN",
          "TX",
          "US-TOTAL",
          "UT",
          "VA",
          "VT",
          "WA",
          "WI",
          "WV",
          "WY"
         ],
         "textfont": {
          "size": 5
         },
         "type": "scatter3d",
         "x": [
          76.02661895751953,
          -2.705134391784668,
          -94.42635345458984,
          -78.06580352783203,
          64.58300018310547,
          -42.57341384887695,
          -16.19158363342285,
          125.26005554199219,
          126.59335327148438,
          55.41006088256836,
          -30.644880294799805,
          -40.89695358276367,
          38.898582458496094,
          -10.920634269714355,
          -15.250947952270508,
          -54.292301177978516,
          22.760351181030273,
          35.337581634521484,
          -80.14854431152344,
          23.283342361450195,
          -5.416701793670654,
          -58.146331787109375,
          7.803539752960205,
          -59.109886169433594,
          -8.17514705657959,
          82.79702758789062,
          -76.79736328125,
          16.387781143188477,
          44.20514678955078,
          39.48468017578125,
          -20.71701431274414,
          22.579496383666992,
          -75.97769165039062,
          91.48558044433594,
          37.063209533691406,
          -24.37012481689453,
          81.35099792480469,
          -44.4018440246582,
          -37.51683807373047,
          138.72579956054688,
          -65.50909423828125,
          100.04390716552734,
          -38.42537307739258,
          84.9928970336914,
          17.53297233581543,
          -34.16954803466797,
          13.528554916381836,
          -95.21025848388672,
          11.677860260009766,
          18.64552879333496,
          -97.6418228149414,
          -113.36819458007812
         ],
         "y": [
          51.7254753112793,
          55.79780960083008,
          1.536287546157837,
          -14.342281341552734,
          -70.07683563232422,
          18.91054916381836,
          -44.44666290283203,
          -79.99894714355469,
          -30.71996307373047,
          9.818902969360352,
          15.186767578125,
          -164.26829528808594,
          94.38316345214844,
          -103.33638000488281,
          23.337560653686523,
          119.19400787353516,
          121.97767639160156,
          33.95441436767578,
          11.339956283569336,
          -96.55797576904297,
          66.82505798339844,
          -79.14910888671875,
          -116.42362976074219,
          46.577850341796875,
          113.50758361816406,
          -63.341957092285156,
          79.61914825439453,
          14.653603553771973,
          93.02444458007812,
          21.728158950805664,
          -14.309203147888184,
          -56.01625442504883,
          36.58624267578125,
          15.455617904663086,
          -21.063461303710938,
          63.064151763916016,
          -10.88865852355957,
          -104.26689910888672,
          -19.761089324951172,
          13.329381942749023,
          -58.06388473510742,
          58.87400436401367,
          87.60447692871094,
          -39.583438873291016,
          38.87687301635742,
          -22.518688201904297,
          -40.08678436279297,
          -83.61226654052734,
          -106.53736877441406,
          -34.730369567871094,
          -29.356592178344727,
          80.31121826171875
         ],
         "z": [
          -7.351991176605225,
          89.27461242675781,
          26.571752548217773,
          -27.035253524780273,
          -0.38803088665008545,
          129.0763397216797,
          -44.904422760009766,
          17.696992874145508,
          -45.55305099487305,
          48.964385986328125,
          -33.54912567138672,
          28.361207962036133,
          58.361873626708984,
          31.018474578857422,
          45.86314010620117,
          -5.615302085876465,
          11.275275230407715,
          -115.44168853759766,
          -86.12532806396484,
          87.46636199951172,
          5.540657043457031,
          48.362789154052734,
          -74.60872650146484,
          11.478143692016602,
          -49.722633361816406,
          -64.62540435791016,
          -53.29365158081055,
          2.0223894119262695,
          -78.22010803222656,
          115.07882690429688,
          -98.47232055664062,
          -89.76744842529297,
          79.46612548828125,
          -59.401573181152344,
          -45.71235656738281,
          -87.90835571289062,
          5.204803943634033,
          -17.07967185974121,
          14.551552772521973,
          -7.147406578063965,
          -80.20185089111328,
          61.50327682495117,
          51.58505630493164,
          55.967185974121094,
          -46.39192199707031,
          90.48764038085938,
          6.7574782371521,
          -0.34132710099220276,
          -14.958488464355469,
          73.39053344726562,
          92.68115997314453,
          6.429840087890625
         ]
        }
       ],
       "layout": {
        "coloraxis": {
         "colorbar": {
          "title": {
           "text": "Coal %"
          },
          "x": 0.05,
          "xanchor": "left",
          "y": 0.95,
          "yanchor": "top"
         },
         "colorscale": [
          [
           0,
           "#440154"
          ],
          [
           0.1111111111111111,
           "#482878"
          ],
          [
           0.2222222222222222,
           "#3e4989"
          ],
          [
           0.3333333333333333,
           "#31688e"
          ],
          [
           0.4444444444444444,
           "#26828e"
          ],
          [
           0.5555555555555556,
           "#1f9e89"
          ],
          [
           0.6666666666666666,
           "#35b779"
          ],
          [
           0.7777777777777778,
           "#6ece58"
          ],
          [
           0.8888888888888888,
           "#b5de2b"
          ],
          [
           1,
           "#fde725"
          ]
         ]
        },
        "legend": {
         "tracegroupgap": 0
        },
        "scene": {
         "domain": {
          "x": [
           0,
           1
          ],
          "y": [
           0,
           1
          ]
         },
         "xaxis": {
          "title": {
           "text": "t-SNE 1"
          }
         },
         "yaxis": {
          "title": {
           "text": "t-SNE 2"
          }
         },
         "zaxis": {
          "title": {
           "text": "t-SNE 3"
          }
         }
        },
        "template": {
         "data": {
          "bar": [
           {
            "error_x": {
             "color": "#2a3f5f"
            },
            "error_y": {
             "color": "#2a3f5f"
            },
            "marker": {
             "line": {
              "color": "#E5ECF6",
              "width": 0.5
             },
             "pattern": {
              "fillmode": "overlay",
              "size": 10,
              "solidity": 0.2
             }
            },
            "type": "bar"
           }
          ],
          "barpolar": [
           {
            "marker": {
             "line": {
              "color": "#E5ECF6",
              "width": 0.5
             },
             "pattern": {
              "fillmode": "overlay",
              "size": 10,
              "solidity": 0.2
             }
            },
            "type": "barpolar"
           }
          ],
          "carpet": [
           {
            "aaxis": {
             "endlinecolor": "#2a3f5f",
             "gridcolor": "white",
             "linecolor": "white",
             "minorgridcolor": "white",
             "startlinecolor": "#2a3f5f"
            },
            "baxis": {
             "endlinecolor": "#2a3f5f",
             "gridcolor": "white",
             "linecolor": "white",
             "minorgridcolor": "white",
             "startlinecolor": "#2a3f5f"
            },
            "type": "carpet"
           }
          ],
          "choropleth": [
           {
            "colorbar": {
             "outlinewidth": 0,
             "ticks": ""
            },
            "type": "choropleth"
           }
          ],
          "contour": [
           {
            "colorbar": {
             "outlinewidth": 0,
             "ticks": ""
            },
            "colorscale": [
             [
              0,
              "#0d0887"
             ],
             [
              0.1111111111111111,
              "#46039f"
             ],
             [
              0.2222222222222222,
              "#7201a8"
             ],
             [
              0.3333333333333333,
              "#9c179e"
             ],
             [
              0.4444444444444444,
              "#bd3786"
             ],
             [
              0.5555555555555556,
              "#d8576b"
             ],
             [
              0.6666666666666666,
              "#ed7953"
             ],
             [
              0.7777777777777778,
              "#fb9f3a"
             ],
             [
              0.8888888888888888,
              "#fdca26"
             ],
             [
              1,
              "#f0f921"
             ]
            ],
            "type": "contour"
           }
          ],
          "contourcarpet": [
           {
            "colorbar": {
             "outlinewidth": 0,
             "ticks": ""
            },
            "type": "contourcarpet"
           }
          ],
          "heatmap": [
           {
            "colorbar": {
             "outlinewidth": 0,
             "ticks": ""
            },
            "colorscale": [
             [
              0,
              "#0d0887"
             ],
             [
              0.1111111111111111,
              "#46039f"
             ],
             [
              0.2222222222222222,
              "#7201a8"
             ],
             [
              0.3333333333333333,
              "#9c179e"
             ],
             [
              0.4444444444444444,
              "#bd3786"
             ],
             [
              0.5555555555555556,
              "#d8576b"
             ],
             [
              0.6666666666666666,
              "#ed7953"
             ],
             [
              0.7777777777777778,
              "#fb9f3a"
             ],
             [
              0.8888888888888888,
              "#fdca26"
             ],
             [
              1,
              "#f0f921"
             ]
            ],
            "type": "heatmap"
           }
          ],
          "heatmapgl": [
           {
            "colorbar": {
             "outlinewidth": 0,
             "ticks": ""
            },
            "colorscale": [
             [
              0,
              "#0d0887"
             ],
             [
              0.1111111111111111,
              "#46039f"
             ],
             [
              0.2222222222222222,
              "#7201a8"
             ],
             [
              0.3333333333333333,
              "#9c179e"
             ],
             [
              0.4444444444444444,
              "#bd3786"
             ],
             [
              0.5555555555555556,
              "#d8576b"
             ],
             [
              0.6666666666666666,
              "#ed7953"
             ],
             [
              0.7777777777777778,
              "#fb9f3a"
             ],
             [
              0.8888888888888888,
              "#fdca26"
             ],
             [
              1,
              "#f0f921"
             ]
            ],
            "type": "heatmapgl"
           }
          ],
          "histogram": [
           {
            "marker": {
             "pattern": {
              "fillmode": "overlay",
              "size": 10,
              "solidity": 0.2
             }
            },
            "type": "histogram"
           }
          ],
          "histogram2d": [
           {
            "colorbar": {
             "outlinewidth": 0,
             "ticks": ""
            },
            "colorscale": [
             [
              0,
              "#0d0887"
             ],
             [
              0.1111111111111111,
              "#46039f"
             ],
             [
              0.2222222222222222,
              "#7201a8"
             ],
             [
              0.3333333333333333,
              "#9c179e"
             ],
             [
              0.4444444444444444,
              "#bd3786"
             ],
             [
              0.5555555555555556,
              "#d8576b"
             ],
             [
              0.6666666666666666,
              "#ed7953"
             ],
             [
              0.7777777777777778,
              "#fb9f3a"
             ],
             [
              0.8888888888888888,
              "#fdca26"
             ],
             [
              1,
              "#f0f921"
             ]
            ],
            "type": "histogram2d"
           }
          ],
          "histogram2dcontour": [
           {
            "colorbar": {
             "outlinewidth": 0,
             "ticks": ""
            },
            "colorscale": [
             [
              0,
              "#0d0887"
             ],
             [
              0.1111111111111111,
              "#46039f"
             ],
             [
              0.2222222222222222,
              "#7201a8"
             ],
             [
              0.3333333333333333,
              "#9c179e"
             ],
             [
              0.4444444444444444,
              "#bd3786"
             ],
             [
              0.5555555555555556,
              "#d8576b"
             ],
             [
              0.6666666666666666,
              "#ed7953"
             ],
             [
              0.7777777777777778,
              "#fb9f3a"
             ],
             [
              0.8888888888888888,
              "#fdca26"
             ],
             [
              1,
              "#f0f921"
             ]
            ],
            "type": "histogram2dcontour"
           }
          ],
          "mesh3d": [
           {
            "colorbar": {
             "outlinewidth": 0,
             "ticks": ""
            },
            "type": "mesh3d"
           }
          ],
          "parcoords": [
           {
            "line": {
             "colorbar": {
              "outlinewidth": 0,
              "ticks": ""
             }
            },
            "type": "parcoords"
           }
          ],
          "pie": [
           {
            "automargin": true,
            "type": "pie"
           }
          ],
          "scatter": [
           {
            "fillpattern": {
             "fillmode": "overlay",
             "size": 10,
             "solidity": 0.2
            },
            "type": "scatter"
           }
          ],
          "scatter3d": [
           {
            "line": {
             "colorbar": {
              "outlinewidth": 0,
              "ticks": ""
             }
            },
            "marker": {
             "colorbar": {
              "outlinewidth": 0,
              "ticks": ""
             }
            },
            "type": "scatter3d"
           }
          ],
          "scattercarpet": [
           {
            "marker": {
             "colorbar": {
              "outlinewidth": 0,
              "ticks": ""
             }
            },
            "type": "scattercarpet"
           }
          ],
          "scattergeo": [
           {
            "marker": {
             "colorbar": {
              "outlinewidth": 0,
              "ticks": ""
             }
            },
            "type": "scattergeo"
           }
          ],
          "scattergl": [
           {
            "marker": {
             "colorbar": {
              "outlinewidth": 0,
              "ticks": ""
             }
            },
            "type": "scattergl"
           }
          ],
          "scattermapbox": [
           {
            "marker": {
             "colorbar": {
              "outlinewidth": 0,
              "ticks": ""
             }
            },
            "type": "scattermapbox"
           }
          ],
          "scatterpolar": [
           {
            "marker": {
             "colorbar": {
              "outlinewidth": 0,
              "ticks": ""
             }
            },
            "type": "scatterpolar"
           }
          ],
          "scatterpolargl": [
           {
            "marker": {
             "colorbar": {
              "outlinewidth": 0,
              "ticks": ""
             }
            },
            "type": "scatterpolargl"
           }
          ],
          "scatterternary": [
           {
            "marker": {
             "colorbar": {
              "outlinewidth": 0,
              "ticks": ""
             }
            },
            "type": "scatterternary"
           }
          ],
          "surface": [
           {
            "colorbar": {
             "outlinewidth": 0,
             "ticks": ""
            },
            "colorscale": [
             [
              0,
              "#0d0887"
             ],
             [
              0.1111111111111111,
              "#46039f"
             ],
             [
              0.2222222222222222,
              "#7201a8"
             ],
             [
              0.3333333333333333,
              "#9c179e"
             ],
             [
              0.4444444444444444,
              "#bd3786"
             ],
             [
              0.5555555555555556,
              "#d8576b"
             ],
             [
              0.6666666666666666,
              "#ed7953"
             ],
             [
              0.7777777777777778,
              "#fb9f3a"
             ],
             [
              0.8888888888888888,
              "#fdca26"
             ],
             [
              1,
              "#f0f921"
             ]
            ],
            "type": "surface"
           }
          ],
          "table": [
           {
            "cells": {
             "fill": {
              "color": "#EBF0F8"
             },
             "line": {
              "color": "white"
             }
            },
            "header": {
             "fill": {
              "color": "#C8D4E3"
             },
             "line": {
              "color": "white"
             }
            },
            "type": "table"
           }
          ]
         },
         "layout": {
          "annotationdefaults": {
           "arrowcolor": "#2a3f5f",
           "arrowhead": 0,
           "arrowwidth": 1
          },
          "autotypenumbers": "strict",
          "coloraxis": {
           "colorbar": {
            "outlinewidth": 0,
            "ticks": ""
           }
          },
          "colorscale": {
           "diverging": [
            [
             0,
             "#8e0152"
            ],
            [
             0.1,
             "#c51b7d"
            ],
            [
             0.2,
             "#de77ae"
            ],
            [
             0.3,
             "#f1b6da"
            ],
            [
             0.4,
             "#fde0ef"
            ],
            [
             0.5,
             "#f7f7f7"
            ],
            [
             0.6,
             "#e6f5d0"
            ],
            [
             0.7,
             "#b8e186"
            ],
            [
             0.8,
             "#7fbc41"
            ],
            [
             0.9,
             "#4d9221"
            ],
            [
             1,
             "#276419"
            ]
           ],
           "sequential": [
            [
             0,
             "#0d0887"
            ],
            [
             0.1111111111111111,
             "#46039f"
            ],
            [
             0.2222222222222222,
             "#7201a8"
            ],
            [
             0.3333333333333333,
             "#9c179e"
            ],
            [
             0.4444444444444444,
             "#bd3786"
            ],
            [
             0.5555555555555556,
             "#d8576b"
            ],
            [
             0.6666666666666666,
             "#ed7953"
            ],
            [
             0.7777777777777778,
             "#fb9f3a"
            ],
            [
             0.8888888888888888,
             "#fdca26"
            ],
            [
             1,
             "#f0f921"
            ]
           ],
           "sequentialminus": [
            [
             0,
             "#0d0887"
            ],
            [
             0.1111111111111111,
             "#46039f"
            ],
            [
             0.2222222222222222,
             "#7201a8"
            ],
            [
             0.3333333333333333,
             "#9c179e"
            ],
            [
             0.4444444444444444,
             "#bd3786"
            ],
            [
             0.5555555555555556,
             "#d8576b"
            ],
            [
             0.6666666666666666,
             "#ed7953"
            ],
            [
             0.7777777777777778,
             "#fb9f3a"
            ],
            [
             0.8888888888888888,
             "#fdca26"
            ],
            [
             1,
             "#f0f921"
            ]
           ]
          },
          "colorway": [
           "#636efa",
           "#EF553B",
           "#00cc96",
           "#ab63fa",
           "#FFA15A",
           "#19d3f3",
           "#FF6692",
           "#B6E880",
           "#FF97FF",
           "#FECB52"
          ],
          "font": {
           "color": "#2a3f5f"
          },
          "geo": {
           "bgcolor": "white",
           "lakecolor": "white",
           "landcolor": "#E5ECF6",
           "showlakes": true,
           "showland": true,
           "subunitcolor": "white"
          },
          "hoverlabel": {
           "align": "left"
          },
          "hovermode": "closest",
          "mapbox": {
           "style": "light"
          },
          "paper_bgcolor": "white",
          "plot_bgcolor": "#E5ECF6",
          "polar": {
           "angularaxis": {
            "gridcolor": "white",
            "linecolor": "white",
            "ticks": ""
           },
           "bgcolor": "#E5ECF6",
           "radialaxis": {
            "gridcolor": "white",
            "linecolor": "white",
            "ticks": ""
           }
          },
          "scene": {
           "xaxis": {
            "backgroundcolor": "#E5ECF6",
            "gridcolor": "white",
            "gridwidth": 2,
            "linecolor": "white",
            "showbackground": true,
            "ticks": "",
            "zerolinecolor": "white"
           },
           "yaxis": {
            "backgroundcolor": "#E5ECF6",
            "gridcolor": "white",
            "gridwidth": 2,
            "linecolor": "white",
            "showbackground": true,
            "ticks": "",
            "zerolinecolor": "white"
           },
           "zaxis": {
            "backgroundcolor": "#E5ECF6",
            "gridcolor": "white",
            "gridwidth": 2,
            "linecolor": "white",
            "showbackground": true,
            "ticks": "",
            "zerolinecolor": "white"
           }
          },
          "shapedefaults": {
           "line": {
            "color": "#2a3f5f"
           }
          },
          "ternary": {
           "aaxis": {
            "gridcolor": "white",
            "linecolor": "white",
            "ticks": ""
           },
           "baxis": {
            "gridcolor": "white",
            "linecolor": "white",
            "ticks": ""
           },
           "bgcolor": "#E5ECF6",
           "caxis": {
            "gridcolor": "white",
            "linecolor": "white",
            "ticks": ""
           }
          },
          "title": {
           "x": 0.05
          },
          "xaxis": {
           "automargin": true,
           "gridcolor": "white",
           "linecolor": "white",
           "ticks": "",
           "title": {
            "standoff": 15
           },
           "zerolinecolor": "white",
           "zerolinewidth": 2
          },
          "yaxis": {
           "automargin": true,
           "gridcolor": "white",
           "linecolor": "white",
           "ticks": "",
           "title": {
            "standoff": 15
           },
           "zerolinecolor": "white",
           "zerolinewidth": 2
          }
         }
        },
        "title": {
         "text": "t-SNE of Energy Sources Profiles in 2016"
        }
       }
      }
     },
     "metadata": {},
     "output_type": "display_data"
    }
   ],
   "source": [
    "# Use t-SNE to reduce dimensionality to 2D\n",
    "tsne = TSNE(n_components=3, random_state=42)\n",
    "reduced_data_tsne = tsne.fit_transform(data_2016)\n",
    "\n",
    "# Create a dataframe with the reduced data\n",
    "reduced_df_tsne = pd.DataFrame(reduced_data_tsne, columns=['x', 'y', 'z'])\n",
    "reduced_df_tsne['State'] = data_2016.index\n",
    "\n",
    "# Create interactive plotly scatter plot\n",
    "color_scale = data_2016['COAL']\n",
    "fig = px.scatter_3d(reduced_df_tsne, x='x', y='y', z='z', text='State', hover_name='State', \n",
    "                    color=color_scale, color_continuous_scale='viridis', opacity=0.8,\n",
    "                    labels={'x': 't-SNE 1', 'y': 't-SNE 2', 'z': 't-SNE 3', 'color': 'Coal %'},\n",
    "                 title='t-SNE of Energy Sources Profiles in 2016')\n",
    "\n",
    "fig.update_traces(marker=dict(size=3), textfont=dict(size=5))\n",
    "fig.update_layout(coloraxis_colorbar=dict(title='Coal %', yanchor='top', y=0.95, xanchor='left', x=0.05))\n",
    "fig.show()"
   ]
  }
 ],
 "metadata": {
  "kernelspec": {
   "display_name": "HonorsThesis",
   "language": "python",
   "name": "python3"
  },
  "language_info": {
   "codemirror_mode": {
    "name": "ipython",
    "version": 3
   },
   "file_extension": ".py",
   "mimetype": "text/x-python",
   "name": "python",
   "nbconvert_exporter": "python",
   "pygments_lexer": "ipython3",
   "version": "3.11.4"
  },
  "orig_nbformat": 4
 },
 "nbformat": 4,
 "nbformat_minor": 2
}
