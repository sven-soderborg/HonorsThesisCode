{
 "cells": [
  {
   "cell_type": "markdown",
   "metadata": {},
   "source": [
    "# Exploring IEA Annual Electricity Generation by State Report\n",
    "***"
   ]
  },
  {
   "cell_type": "code",
   "execution_count": 1,
   "metadata": {},
   "outputs": [
    {
     "data": {
      "text/html": [
       "\n",
       "<style>\n",
       "    table.dataframe th, table.dataframe td {\n",
       "        text-align: right !important;\n",
       "    }\n",
       "</style>\n"
      ],
      "text/plain": [
       "<IPython.core.display.HTML object>"
      ]
     },
     "metadata": {},
     "output_type": "display_data"
    }
   ],
   "source": [
    "import pandas as pd\n",
    "pd.options.display.float_format = '{:,.2f}'.format # display numbers as with thousands separator\n",
    "pd.option_context('display.max_rows', None, 'display.max_columns', None)\n",
    "\n",
    "from IPython.display import display, HTML\n",
    "# Custom CSS to align DataFrame values to the right\n",
    "css_rules = \"\"\"\n",
    "<style>\n",
    "    table.dataframe th, table.dataframe td {\n",
    "        text-align: right !important;\n",
    "    }\n",
    "</style>\n",
    "\"\"\"\n",
    "# Apply the custom CSS\n",
    "display(HTML(css_rules))\n",
    "\n",
    "# Save tables to a workbook\n",
    "import openpyxl\n",
    "wb = openpyxl.Workbook()\n",
    "wb.save(\"Data/EIA/tables.xlsx\")\n"
   ]
  },
  {
   "cell_type": "code",
   "execution_count": 2,
   "metadata": {},
   "outputs": [],
   "source": [
    "egen_df = pd.read_csv('Data/EIA/annual_generation_clean.csv')"
   ]
  },
  {
   "cell_type": "markdown",
   "metadata": {},
   "source": [
    "## Look at characteristics of the data\n",
    "<a class=\"anchor\" id=\"look-at-characteristics-of-the-data\"></a>\n",
    "***\n",
    "1. Time period of dataset\n",
    "3. Unique values for producer type and energy source"
   ]
  },
  {
   "cell_type": "code",
   "execution_count": 3,
   "metadata": {},
   "outputs": [
    {
     "name": "stdout",
     "output_type": "stream",
     "text": [
      "Data ranges from 1990 to 2022\n"
     ]
    },
    {
     "data": {
      "text/html": [
       "<div>\n",
       "<style scoped>\n",
       "    .dataframe tbody tr th:only-of-type {\n",
       "        vertical-align: middle;\n",
       "    }\n",
       "\n",
       "    .dataframe tbody tr th {\n",
       "        vertical-align: top;\n",
       "    }\n",
       "\n",
       "    .dataframe thead th {\n",
       "        text-align: right;\n",
       "    }\n",
       "</style>\n",
       "<table border=\"1\" class=\"dataframe\">\n",
       "  <thead>\n",
       "    <tr style=\"text-align: right;\">\n",
       "      <th></th>\n",
       "      <th></th>\n",
       "      <th>MWh Generated</th>\n",
       "    </tr>\n",
       "    <tr>\n",
       "      <th>year</th>\n",
       "      <th>state</th>\n",
       "      <th></th>\n",
       "    </tr>\n",
       "  </thead>\n",
       "  <tbody>\n",
       "    <tr>\n",
       "      <th rowspan=\"5\" valign=\"top\">1990</th>\n",
       "      <th>ak</th>\n",
       "      <td>11,199,012.00</td>\n",
       "    </tr>\n",
       "    <tr>\n",
       "      <th>al</th>\n",
       "      <td>159,304,266.00</td>\n",
       "    </tr>\n",
       "    <tr>\n",
       "      <th>ar</th>\n",
       "      <td>78,199,196.00</td>\n",
       "    </tr>\n",
       "    <tr>\n",
       "      <th>az</th>\n",
       "      <td>125,548,594.00</td>\n",
       "    </tr>\n",
       "    <tr>\n",
       "      <th>ca</th>\n",
       "      <td>331,569,818.00</td>\n",
       "    </tr>\n",
       "    <tr>\n",
       "      <th>...</th>\n",
       "      <th>...</th>\n",
       "      <td>...</td>\n",
       "    </tr>\n",
       "    <tr>\n",
       "      <th rowspan=\"5\" valign=\"top\">2022</th>\n",
       "      <th>vt</th>\n",
       "      <td>4,367,658.00</td>\n",
       "    </tr>\n",
       "    <tr>\n",
       "      <th>wa</th>\n",
       "      <td>233,380,998.00</td>\n",
       "    </tr>\n",
       "    <tr>\n",
       "      <th>wi</th>\n",
       "      <td>122,488,620.00</td>\n",
       "    </tr>\n",
       "    <tr>\n",
       "      <th>wv</th>\n",
       "      <td>113,330,721.00</td>\n",
       "    </tr>\n",
       "    <tr>\n",
       "      <th>wy</th>\n",
       "      <td>92,694,985.00</td>\n",
       "    </tr>\n",
       "  </tbody>\n",
       "</table>\n",
       "<p>1716 rows × 1 columns</p>\n",
       "</div>"
      ],
      "text/plain": [
       "            MWh Generated\n",
       "year state               \n",
       "1990 ak     11,199,012.00\n",
       "     al    159,304,266.00\n",
       "     ar     78,199,196.00\n",
       "     az    125,548,594.00\n",
       "     ca    331,569,818.00\n",
       "...                   ...\n",
       "2022 vt      4,367,658.00\n",
       "     wa    233,380,998.00\n",
       "     wi    122,488,620.00\n",
       "     wv    113,330,721.00\n",
       "     wy     92,694,985.00\n",
       "\n",
       "[1716 rows x 1 columns]"
      ]
     },
     "execution_count": 3,
     "metadata": {},
     "output_type": "execute_result"
    }
   ],
   "source": [
    "# Find the time range of the data\n",
    "years = egen_df['year'].unique()\n",
    "years.sort()\n",
    "print(f'Data ranges from {years[0]} to {years[-1]}')\n",
    "\n",
    "# Find the amount of electricity produced each year\n",
    "yearly_totals = egen_df.groupby('year')['genMWH'].sum().to_frame().rename(columns={\"year\": \"Year\", \"genMWH\": \"MWh Generated\"})\n",
    "with pd.ExcelWriter(\"Data/EIA/tables.xlsx\", mode='a', engine='openpyxl', if_sheet_exists='replace') as writer:\n",
    "    yearly_totals.to_excel(writer, sheet_name='yearly_total', index=False)\n",
    "\n",
    "# Find the amount of electricity produced each year locality\n",
    "yearly_totals_locality = egen_df.groupby(['year', 'state'])['genMWH'].sum().to_frame().rename(columns={\"year\": \"Year\", \"genMWH\": \"MWh Generated\", 'state': 'State'})\n",
    "with pd.ExcelWriter(\"Data/EIA/tables.xlsx\", mode='a', engine='openpyxl', if_sheet_exists='replace') as writer:\n",
    "    yearly_totals_locality.to_excel(writer, sheet_name='yearXstate', index=False)\n",
    "\n",
    "# Find the amount of electricity produced each year by fuel type\n",
    "yearly_totals_source = egen_df.groupby(['year', 'energySource'])['genMWH'].sum().to_frame().rename(columns={\"year\": \"Year\", \"genMWH\": \"MWh Generated\", 'energySource': 'Energy Source'})\n",
    "with pd.ExcelWriter(\"Data/EIA/tables.xlsx\", mode='a', engine='openpyxl', if_sheet_exists='replace') as writer:\n",
    "    yearly_totals_source.to_excel(writer, sheet_name='yearXsource', index=False)\n",
    "\n",
    "# # Find the amount of electricity produced each year by fuel type and locality\n",
    "yearly_totals_fuel_locality = egen_df.groupby(['year', 'energySource', 'state'])['genMWH'].sum().to_frame().rename(columns={\"year\": \"Year\", \"genMWH\": \"MWh Generated\", 'energySource': 'Energy Source', 'state': 'State'})\n",
    "with pd.ExcelWriter(\"Data/EIA/tables.xlsx\", mode='a', engine='openpyxl', if_sheet_exists='replace') as writer:\n",
    "    yearly_totals_fuel_locality.to_excel(writer, sheet_name='yearXsourceXstate', index=False)\n",
    "\n",
    "yearly_totals_locality"
   ]
  },
  {
   "cell_type": "code",
   "execution_count": 4,
   "metadata": {},
   "outputs": [
    {
     "name": "stdout",
     "output_type": "stream",
     "text": [
      "total, utilities, industrial_chp, commercial_chp, independent, electric_chp\n"
     ]
    }
   ],
   "source": [
    "# Unique values for producers\n",
    "producers = egen_df['producerType'].unique()\n",
    "print (*producers, sep=\", \")"
   ]
  }
 ],
 "metadata": {
  "kernelspec": {
   "display_name": "Python 3",
   "language": "python",
   "name": "python3"
  },
  "language_info": {
   "codemirror_mode": {
    "name": "ipython",
    "version": 3
   },
   "file_extension": ".py",
   "mimetype": "text/x-python",
   "name": "python",
   "nbconvert_exporter": "python",
   "pygments_lexer": "ipython3",
   "version": "3.11.5"
  }
 },
 "nbformat": 4,
 "nbformat_minor": 2
}
